{
 "cells": [
  {
   "cell_type": "code",
   "execution_count": 2,
   "metadata": {
    "ExecuteTime": {
     "end_time": "2020-04-04T05:45:46.947219Z",
     "start_time": "2020-04-04T05:45:46.942232Z"
    }
   },
   "outputs": [],
   "source": [
    "from mypulp import * \n",
    "import numpy as np\n",
    "import itertools"
   ]
  },
  {
   "cell_type": "markdown",
   "metadata": {},
   "source": [
    "# 箱詰め問題の定式化"
   ]
  },
  {
   "cell_type": "markdown",
   "metadata": {},
   "source": [
    "例題"
   ]
  },
  {
   "cell_type": "code",
   "execution_count": 18,
   "metadata": {
    "ExecuteTime": {
     "end_time": "2020-04-04T06:08:48.506742Z",
     "start_time": "2020-04-04T06:08:48.499728Z"
    }
   },
   "outputs": [],
   "source": [
    "def create_example():\n",
    "    B = 9\n",
    "    w = [2, 3, 4, 5, 6, 7, 8]\n",
    "    q = [4, 2, 6, 6, 2, 2, 2]\n",
    "    s = []\n",
    "    \n",
    "    for j in range(len(w)):\n",
    "        for i in range(q[j]):\n",
    "            s.append(w[j])\n",
    "    \n",
    "    return s, B"
   ]
  },
  {
   "cell_type": "markdown",
   "metadata": {},
   "source": [
    "ビンの数の上限を計算 -> サイズの大きいアイテムを順番に入れていく方法（First Fit Decreasing; FFD）を用いて計算"
   ]
  },
  {
   "cell_type": "code",
   "execution_count": 31,
   "metadata": {
    "ExecuteTime": {
     "end_time": "2020-04-04T06:31:21.695530Z",
     "start_time": "2020-04-04T06:31:21.680564Z"
    }
   },
   "outputs": [],
   "source": [
    "def FFD(s, B):\n",
    "    remain = [B]  # 各ビンの空き容量\n",
    "    sol = [[]]  # 解を保管するリスト\n",
    "    items = np.sort(s)[::-1]\n",
    "    \n",
    "    for item in items:\n",
    "        # もし入れられる余白のあるビンがあればそこに入れる\n",
    "        for j, rest in enumerate(remain):\n",
    "            if rest >= item:\n",
    "                remain[j] = remain[j] - item\n",
    "                sol[j].append(item)\n",
    "                success = True\n",
    "                break\n",
    "            # 入れられるビンがなければビンを追加してそこに入れる\n",
    "            success = False\n",
    "        if not success:\n",
    "            sol.append([item])\n",
    "            remain.append(B-item)\n",
    "    \n",
    "    return sol"
   ]
  },
  {
   "cell_type": "code",
   "execution_count": 60,
   "metadata": {
    "ExecuteTime": {
     "end_time": "2020-04-04T06:50:11.768257Z",
     "start_time": "2020-04-04T06:50:11.752332Z"
    }
   },
   "outputs": [],
   "source": [
    "def solve_bpp(s, B):\n",
    "    model = Model('bpp')\n",
    "    \n",
    "    ## 変数 ##\n",
    "    x, y = {}, {}\n",
    "    for j in J:\n",
    "        y[j] = model.addVar(vtype='B', name=f'y_{j}')\n",
    "        for i in I:\n",
    "            x[i, j] = model.addVar(vtype='B', name=f'x_{i},{j}')\n",
    "            \n",
    "    model.update()\n",
    "    \n",
    "    ## 定式化 ##\n",
    "    for i in I:\n",
    "        model.addConstr(quicksum(x[i, j] for j in J) == 1)\n",
    "    \n",
    "    for j in J:\n",
    "        model.addConstr(quicksum(s[i] * x[i, j] for i in I) <= B)\n",
    "    \n",
    "    for i, j in itertools.product(I, J):\n",
    "        model.addConstr(x[i, j] <= y[j])\n",
    "    \n",
    "    model.setObjective(quicksum(y[j] for j in J), GRB.MINIMIZE)\n",
    "    \n",
    "    model.update()\n",
    "    model.__data = x, y\n",
    "    \n",
    "    return model    "
   ]
  },
  {
   "cell_type": "code",
   "execution_count": 62,
   "metadata": {
    "ExecuteTime": {
     "end_time": "2020-04-04T06:50:24.316860Z",
     "start_time": "2020-04-04T06:50:24.057770Z"
    },
    "scrolled": true
   },
   "outputs": [
    {
     "name": "stdout",
     "output_type": "stream",
     "text": [
      "Optimal Value: 13.0\n"
     ]
    }
   ],
   "source": [
    "s, B = create_example()\n",
    "I = range(len(s))\n",
    "J = range(len(FFD(s, B)))\n",
    "\n",
    "model = solve_bpp(s, B)\n",
    "model.optimize()\n",
    "x, y = model.__data\n",
    "\n",
    "# 最適値\n",
    "print(f'Optimal Value: {model.ObjVal}')"
   ]
  },
  {
   "cell_type": "code",
   "execution_count": null,
   "metadata": {},
   "outputs": [],
   "source": []
  }
 ],
 "metadata": {
  "kernelspec": {
   "display_name": "Python 3",
   "language": "python",
   "name": "python3"
  },
  "language_info": {
   "codemirror_mode": {
    "name": "ipython",
    "version": 3
   },
   "file_extension": ".py",
   "mimetype": "text/x-python",
   "name": "python",
   "nbconvert_exporter": "python",
   "pygments_lexer": "ipython3",
   "version": "3.7.2"
  },
  "toc": {
   "base_numbering": 1,
   "nav_menu": {},
   "number_sections": true,
   "sideBar": true,
   "skip_h1_title": false,
   "title_cell": "Table of Contents",
   "title_sidebar": "Contents",
   "toc_cell": false,
   "toc_position": {},
   "toc_section_display": true,
   "toc_window_display": false
  },
  "varInspector": {
   "cols": {
    "lenName": 16,
    "lenType": 16,
    "lenVar": 40
   },
   "kernels_config": {
    "python": {
     "delete_cmd_postfix": "",
     "delete_cmd_prefix": "del ",
     "library": "var_list.py",
     "varRefreshCmd": "print(var_dic_list())"
    },
    "r": {
     "delete_cmd_postfix": ") ",
     "delete_cmd_prefix": "rm(",
     "library": "var_list.r",
     "varRefreshCmd": "cat(var_dic_list()) "
    }
   },
   "types_to_exclude": [
    "module",
    "function",
    "builtin_function_or_method",
    "instance",
    "_Feature"
   ],
   "window_display": false
  }
 },
 "nbformat": 4,
 "nbformat_minor": 2
}
