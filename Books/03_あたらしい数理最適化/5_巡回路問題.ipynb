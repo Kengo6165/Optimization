{
 "cells": [
  {
   "cell_type": "code",
   "execution_count": 1,
   "metadata": {
    "ExecuteTime": {
     "end_time": "2020-04-17T03:02:38.555467Z",
     "start_time": "2020-04-17T03:02:36.012041Z"
    }
   },
   "outputs": [],
   "source": [
    "from mypulp import *\n",
    "import numpy as np\n",
    "import itertools\n",
    "import networkx as nx\n",
    "import math\n",
    "import matplotlib.pyplot as plt\n",
    "%matplotlib inline"
   ]
  },
  {
   "cell_type": "markdown",
   "metadata": {},
   "source": [
    "# 巡回セールスマン問題"
   ]
  },
  {
   "cell_type": "markdown",
   "metadata": {},
   "source": [
    "## 部分巡回路除去制約を逐次的に追加"
   ]
  },
  {
   "cell_type": "code",
   "execution_count": 2,
   "metadata": {
    "ExecuteTime": {
     "end_time": "2020-04-17T03:02:40.181033Z",
     "start_time": "2020-04-17T03:02:40.167070Z"
    }
   },
   "outputs": [],
   "source": [
    "def solve_tsp(V, d):\n",
    "    model = Model('tsp')\n",
    "\n",
    "    ## 変数 ##\n",
    "    x = {}\n",
    "    for i, j in itertools.product(V, V):\n",
    "        if i < j:\n",
    "            x[i, j] = model.addVar(vtype='B', name=f'x_{i},{j}')\n",
    "    model.update()\n",
    "    \n",
    "    ## 定式化 ##\n",
    "    for i in V:\n",
    "        model.addConstr(quicksum(x[j, i] for j in V if j<i) + quicksum(x[i, j] for j in V if j>i) == 2)\n",
    "\n",
    "    model.setObjective(quicksum(d[i, j] * x[i, j] for i in V for j in V if j>i), GRB.MINIMIZE)\n",
    "    \n",
    "    eps = 1.0e-6\n",
    "    # 部分巡回路除去制約なしで最適化を行い，部分巡回路が発生したところに対して除去制約を追加して解いていく\n",
    "    while True:\n",
    "        model.optimize()\n",
    "        \n",
    "        G = nx.Graph()\n",
    "        G.add_nodes_from(V)        \n",
    "        \n",
    "        # 得られた解のエッジ\n",
    "        edges = []\n",
    "        for i, j in x:\n",
    "            if x[i, j].X > eps:\n",
    "                edges.append([i, j])\n",
    "        G.add_edges_from(edges)\n",
    "        \n",
    "        # 連結成分\n",
    "        cc = list(nx.connected_components(G))  \n",
    "        print(f'Number of subtours: {len(cc)} / ', end='')\n",
    "        \n",
    "        # 連結成分が1なら最適解が得られた\n",
    "        # それ以外なら各連結成分に対して部分巡回路除去制約を追加\n",
    "        if len(cc) == 1:\n",
    "            break\n",
    "        else:\n",
    "            for S in cc:\n",
    "                model.addConstr(quicksum(x[i, j] for i in S for j in S if j>i) <= len(S) - 1)\n",
    "            model.update()\n",
    "\n",
    "    model.__data = x\n",
    "    \n",
    "    return model, G"
   ]
  },
  {
   "cell_type": "code",
   "execution_count": 4,
   "metadata": {
    "ExecuteTime": {
     "end_time": "2020-04-17T03:02:52.035089Z",
     "start_time": "2020-04-17T03:02:50.112981Z"
    }
   },
   "outputs": [
    {
     "name": "stdout",
     "output_type": "stream",
     "text": [
      "Number of subtours: 7 / Number of subtours: 9 / Number of subtours: 2 / Number of subtours: 3 / Number of subtours: 2 / Number of subtours: 1 / \n",
      "Optimal Value: 5949.147003376029\n"
     ]
    },
    {
     "name": "stderr",
     "output_type": "stream",
     "text": [
      "C:\\Users\\kengo\\Anaconda3\\lib\\site-packages\\networkx\\drawing\\nx_pylab.py:579: MatplotlibDeprecationWarning: \n",
      "The iterable function was deprecated in Matplotlib 3.1 and will be removed in 3.3. Use np.iterable instead.\n",
      "  if not cb.iterable(width):\n"
     ]
    },
    {
     "data": {
      "image/png": "[encoded data removed]",
      "text/plain": [
       "<Figure size 432x288 with 1 Axes>"
      ]
     },
     "metadata": {},
     "output_type": "display_data"
    }
   ],
   "source": [
    "# n点からなるグラフの生成\n",
    "n = 50\n",
    "V = [i for i in range(n)]\n",
    "#tours = nx.Graph()\n",
    "#tours.add_nodes_from(V)\n",
    "\n",
    "# 距離行列\n",
    "np.random.seed(1234)\n",
    "x = np.random.randint(low=0, high=1000, size=n)\n",
    "y = np.random.randint(low=0, high=1000, size=n)\n",
    "d = np.sqrt((x.reshape(-1,1) - x)**2 + (y.reshape(-1,1) - y)**2)  \n",
    "\n",
    "p = {i: (x[i], y[i]) for i in range(n)}\n",
    "\n",
    "model, G = solve_tsp(V, d)\n",
    "\n",
    "print(f'\\nOptimal Value: {model.ObjVal}')\n",
    "nx.draw_networkx(G, pos=p, node_color='k', node_size=10, with_labels=False)\n",
    "plt.show()"
   ]
  },
  {
   "cell_type": "markdown",
   "metadata": {},
   "source": [
    "## MTZ制約"
   ]
  },
  {
   "cell_type": "code",
   "execution_count": 76,
   "metadata": {
    "ExecuteTime": {
     "end_time": "2020-04-07T13:37:02.554531Z",
     "start_time": "2020-04-07T13:37:02.536547Z"
    }
   },
   "outputs": [],
   "source": [
    "def solve_tsp_mtz(V, d):\n",
    "    model = Model('tsp_mtz')\n",
    "\n",
    "    ## 変数 ##\n",
    "    x, u = {}, {}\n",
    "    for i, j in itertools.product(V, V):\n",
    "        if i != j:\n",
    "            x[i, j] = model.addVar(vtype='B', name=f'x_{i},{j}')\n",
    "    for i in V:\n",
    "        u[i] = model.addVar(vtype='C', lb=0, ub=n-1, name=f'u_{i}')\n",
    "    model.update()\n",
    "    \n",
    "    ## 定式化 ##\n",
    "    for i in V:\n",
    "        model.addConstr(quicksum(x[i, j] for j in V if j!=i) == 1)\n",
    "        model.addConstr(quicksum(x[j, i] for j in V if j!=i) == 1)\n",
    "        \n",
    "        for j in range(1, n):\n",
    "            if i != j:\n",
    "                #model.addConstr(u[i] + 1 - (n-1)*(1-x[i, j]) <= u[j])\n",
    "                model.addConstr(u[i] + 1 - (n-1)*(1-x[i, j]) + (n-3)*x[j, i] <= u[j])\n",
    "    for i in range(1, n):\n",
    "        model.addConstr(1 + (1-x[0, i]) + (n-3)*x[i, 0] <= u[i])\n",
    "        model.addConstr(u[i] <= (n-1) - (1-x[i, 0] - (n-3)*x[0, i]))\n",
    "    model.setObjective(quicksum(d[i, j] * x[i, j] for i, j in x), GRB.MINIMIZE)\n",
    "    \n",
    "    model.update()\n",
    "    model.__data = x, u\n",
    "    \n",
    "    return model"
   ]
  },
  {
   "cell_type": "code",
   "execution_count": 82,
   "metadata": {
    "ExecuteTime": {
     "end_time": "2020-04-07T14:11:58.775651Z",
     "start_time": "2020-04-07T14:11:53.199605Z"
    }
   },
   "outputs": [
    {
     "name": "stdout",
     "output_type": "stream",
     "text": [
      "Optimal Value: 3757.277080174551\n"
     ]
    },
    {
     "name": "stderr",
     "output_type": "stream",
     "text": [
      "C:\\Users\\kengo\\Anaconda3\\lib\\site-packages\\networkx\\drawing\\nx_pylab.py:579: MatplotlibDeprecationWarning: \n",
      "The iterable function was deprecated in Matplotlib 3.1 and will be removed in 3.3. Use np.iterable instead.\n",
      "  if not cb.iterable(width):\n",
      "C:\\Users\\kengo\\Anaconda3\\lib\\site-packages\\networkx\\drawing\\nx_pylab.py:676: MatplotlibDeprecationWarning: \n",
      "The iterable function was deprecated in Matplotlib 3.1 and will be removed in 3.3. Use np.iterable instead.\n",
      "  if cb.iterable(node_size):  # many node sizes\n"
     ]
    },
    {
     "data": {
      "image/png": "[encoded data removed]",
      "text/plain": [
       "<Figure size 432x288 with 1 Axes>"
      ]
     },
     "metadata": {},
     "output_type": "display_data"
    }
   ],
   "source": [
    "# n点からなるグラフの生成\n",
    "n = 20\n",
    "V = [i for i in range(n)]\n",
    "#tours = nx.Graph()\n",
    "#tours.add_nodes_from(V)\n",
    "\n",
    "# 距離行列\n",
    "np.random.seed(1234)\n",
    "x = np.random.randint(low=0, high=1000, size=n)\n",
    "y = np.random.randint(low=0, high=1000, size=n)\n",
    "d = np.sqrt((x.reshape(-1,1) - x)**2 + (y.reshape(-1,1) - y)**2)  \n",
    "\n",
    "p = {i: (x[i], y[i]) for i in range(n)}\n",
    "\n",
    "model = solve_tsp_mtz(V, d)\n",
    "model.optimize()\n",
    "print(f'Optimal Value: {model.ObjVal}')\n",
    "\n",
    "# 解の描画\n",
    "x, u = model.__data\n",
    "eps = 1.0e-6\n",
    "optsol = []\n",
    "for i, j in x:\n",
    "    if x[i, j].X > eps:\n",
    "        optsol.append([i, j])\n",
    "\n",
    "G = nx.DiGraph()\n",
    "G.add_nodes_from(V)\n",
    "G.add_edges_from(optsol)\n",
    "nx.draw_networkx(G, draw_arrows=True, pos=p, node_color='k', node_size=10, with_labels=False)\n",
    "plt.show()"
   ]
  },
  {
   "cell_type": "markdown",
   "metadata": {},
   "source": [
    "### 単一品種フロー定式化"
   ]
  },
  {
   "cell_type": "code",
   "execution_count": 33,
   "metadata": {
    "ExecuteTime": {
     "end_time": "2020-04-07T14:57:49.484991Z",
     "start_time": "2020-04-07T14:57:49.464046Z"
    }
   },
   "outputs": [],
   "source": [
    "def scf(n, d):\n",
    "    model = Model('scf')\n",
    "\n",
    "    ## 変数 ##\n",
    "    x, f = {}, {}\n",
    "    for i, j in itertools.product(range(n), range(n)):\n",
    "        if i != j:\n",
    "            x[i, j] = model.addVar(vtype='B', name=f'x_{i},{j}')\n",
    "            if i == 0:\n",
    "                f[i, j] = model.addVar(vtype='C', ub=np.float(n-1))\n",
    "            else:\n",
    "                f[i, j] = model.addVar(vtype='C', ub=np.float(n-2))\n",
    "    model.update()\n",
    "    \n",
    "    ## 定式化 ##\n",
    "    for i in range(n):\n",
    "        model.addConstr(quicksum(x[i, j] for j in range(n) if j!=i) == 1)\n",
    "        model.addConstr(quicksum(x[j, i] for j in range(n) if j!=i) == 1)\n",
    "    \n",
    "    model.addConstr(quicksum(f[0, j] for j in range(1, n)) == n - 1)\n",
    "\n",
    "    for i in range(1, n):\n",
    "        model.addConstr(quicksum(f[j, i] for j in range(n) if j!=i)\n",
    "                        - quicksum(f[i, j] for j in range(n) if j!=i) == 1)\n",
    "\n",
    "    for j in range(1, n):\n",
    "        model.addConstr(f[0, j] <= (n-1)*x[0, j])\n",
    "    for i in range(1, n):\n",
    "        if i != j:\n",
    "            model.addConstr(f[i, j] <= (n-2)*x[i, j])\n",
    "    \n",
    "    model.setObjective(quicksum(d[i, j] * x[i, j] for i, j in x), GRB.MINIMIZE)\n",
    "    \n",
    "    model.update()\n",
    "    model.__data = x, f\n",
    "    \n",
    "    return model"
   ]
  },
  {
   "cell_type": "code",
   "execution_count": 34,
   "metadata": {
    "ExecuteTime": {
     "end_time": "2020-04-07T14:57:50.052689Z",
     "start_time": "2020-04-07T14:57:49.672740Z"
    }
   },
   "outputs": [
    {
     "name": "stdout",
     "output_type": "stream",
     "text": [
      "Optimal Value: 2892.831414630052\n"
     ]
    },
    {
     "name": "stderr",
     "output_type": "stream",
     "text": [
      "C:\\Users\\kengo\\Anaconda3\\lib\\site-packages\\networkx\\drawing\\nx_pylab.py:579: MatplotlibDeprecationWarning: \n",
      "The iterable function was deprecated in Matplotlib 3.1 and will be removed in 3.3. Use np.iterable instead.\n",
      "  if not cb.iterable(width):\n",
      "C:\\Users\\kengo\\Anaconda3\\lib\\site-packages\\networkx\\drawing\\nx_pylab.py:676: MatplotlibDeprecationWarning: \n",
      "The iterable function was deprecated in Matplotlib 3.1 and will be removed in 3.3. Use np.iterable instead.\n",
      "  if cb.iterable(node_size):  # many node sizes\n"
     ]
    },
    {
     "data": {
      "image/png": "[encoded data removed]",
      "text/plain": [
       "<Figure size 432x288 with 1 Axes>"
      ]
     },
     "metadata": {},
     "output_type": "display_data"
    }
   ],
   "source": [
    "# n点からなるグラフの生成\n",
    "n = 20\n",
    "V = [i for i in range(n)]\n",
    "\n",
    "# 距離行列\n",
    "np.random.seed(1234)\n",
    "x = np.random.randint(low=0, high=1000, size=n)\n",
    "y = np.random.randint(low=0, high=1000, size=n)\n",
    "d = np.sqrt((x.reshape(-1,1) - x)**2 + (y.reshape(-1,1) - y)**2)  \n",
    "\n",
    "p = {i: (x[i], y[i]) for i in range(n)}\n",
    "\n",
    "model = scf(n, d)\n",
    "model.optimize()\n",
    "print(f'Optimal Value: {model.ObjVal}')\n",
    "\n",
    "# 解の描画\n",
    "x, f = model.__data\n",
    "eps = 1.0e-6\n",
    "optsol = []\n",
    "for i, j in x:\n",
    "    if x[i, j].X > eps:\n",
    "        optsol.append([i, j])\n",
    "\n",
    "G = nx.DiGraph()\n",
    "G.add_nodes_from(V)\n",
    "G.add_edges_from(optsol)\n",
    "nx.draw_networkx(G, draw_arrows=True, pos=p, node_color='k', node_size=10, with_labels=False)\n",
    "plt.show()"
   ]
  },
  {
   "cell_type": "code",
   "execution_count": null,
   "metadata": {},
   "outputs": [],
   "source": []
  }
 ],
 "metadata": {
  "kernelspec": {
   "display_name": "Python 3",
   "language": "python",
   "name": "python3"
  },
  "language_info": {
   "codemirror_mode": {
    "name": "ipython",
    "version": 3
   },
   "file_extension": ".py",
   "mimetype": "text/x-python",
   "name": "python",
   "nbconvert_exporter": "python",
   "pygments_lexer": "ipython3",
   "version": "3.7.2"
  },
  "toc": {
   "base_numbering": 1,
   "nav_menu": {},
   "number_sections": true,
   "sideBar": true,
   "skip_h1_title": false,
   "title_cell": "Table of Contents",
   "title_sidebar": "Contents",
   "toc_cell": false,
   "toc_position": {},
   "toc_section_display": true,
   "toc_window_display": true
  },
  "varInspector": {
   "cols": {
    "lenName": 16,
    "lenType": 16,
    "lenVar": 40
   },
   "kernels_config": {
    "python": {
     "delete_cmd_postfix": "",
     "delete_cmd_prefix": "del ",
     "library": "var_list.py",
     "varRefreshCmd": "print(var_dic_list())"
    },
    "r": {
     "delete_cmd_postfix": ") ",
     "delete_cmd_prefix": "rm(",
     "library": "var_list.r",
     "varRefreshCmd": "cat(var_dic_list()) "
    }
   },
   "oldHeight": 122.4,
   "position": {
    "height": "40px",
    "left": "1261.06px",
    "right": "20px",
    "top": "120px",
    "width": "254.938px"
   },
   "types_to_exclude": [
    "module",
    "function",
    "builtin_function_or_method",
    "instance",
    "_Feature"
   ],
   "varInspector_section_display": "none",
   "window_display": false
  }
 },
 "nbformat": 4,
 "nbformat_minor": 2
}
