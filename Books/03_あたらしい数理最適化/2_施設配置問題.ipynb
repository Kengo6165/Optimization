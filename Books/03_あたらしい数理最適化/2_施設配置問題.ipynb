{
 "cells": [
  {
   "cell_type": "code",
   "execution_count": 1,
   "metadata": {
    "ExecuteTime": {
     "end_time": "2020-03-26T15:51:32.574608Z",
     "start_time": "2020-03-26T15:51:32.486169Z"
    }
   },
   "outputs": [],
   "source": [
    "from mypulp import * \n",
    "import itertools"
   ]
  },
  {
   "cell_type": "markdown",
   "metadata": {},
   "source": [
    "# 容量制約付き施設配置問題"
   ]
  },
  {
   "cell_type": "code",
   "execution_count": 10,
   "metadata": {
    "ExecuteTime": {
     "end_time": "2020-03-26T16:10:33.802976Z",
     "start_time": "2020-03-26T16:10:33.790010Z"
    }
   },
   "outputs": [],
   "source": [
    "def flp(I, J, d, M, f, c):\n",
    "    model = Model('flp')\n",
    "    \n",
    "    ## 変数 ##\n",
    "    x, y = {}, {}\n",
    "    for j in J:\n",
    "        y[j] = model.addVar(vtype='B', name=f'y_{j}')\n",
    "        for i in I:\n",
    "            x[i, j] = model.addVar(vtype='C', name=f'x_{i},{j}')\n",
    "    model.update()\n",
    "    \n",
    "    ## 定式化 ##\n",
    "    for i in I:\n",
    "        model.addConstr(quicksum(x[i, j] for j in J) == d[i])\n",
    "    for j in J:\n",
    "        model.addConstr(quicksum(x[i, j] for i in I) <= M[j] * y[j])\n",
    "    for i, j in itertools.product(I, J):\n",
    "        model.addConstr(x[i, j] <= d[i] * y[j])\n",
    "    model.setObjective(quicksum(f[j] * y[j] for j in J) \n",
    "                       + quicksum(c[i][j] * x[i, j] for j in J for i in I), GRB.MINIMIZE)\n",
    "    model.update()\n",
    "    \n",
    "    return model    "
   ]
  },
  {
   "cell_type": "code",
   "execution_count": 11,
   "metadata": {
    "ExecuteTime": {
     "end_time": "2020-03-26T16:10:34.077994Z",
     "start_time": "2020-03-26T16:10:34.036107Z"
    }
   },
   "outputs": [
    {
     "name": "stdout",
     "output_type": "stream",
     "text": [
      "Optimal value:  5610.0\n",
      "x_0,0: 0.0\n",
      "x_0,1: 80.0\n",
      "x_0,2: 0.0\n",
      "x_1,0: 0.0\n",
      "x_1,1: 270.0\n",
      "x_1,2: 0.0\n",
      "x_2,0: 0.0\n",
      "x_2,1: 150.0\n",
      "x_2,2: 100.0\n",
      "x_3,0: 0.0\n",
      "x_3,1: 0.0\n",
      "x_3,2: 160.0\n",
      "x_4,0: 0.0\n",
      "x_4,1: 0.0\n",
      "x_4,2: 180.0\n",
      "y_0: 0.0\n",
      "y_1: 1.0\n",
      "y_2: 1.0\n"
     ]
    }
   ],
   "source": [
    "## 定数 ##\n",
    "# 顧客iの需要量\n",
    "d = [80, 270, 250, 160, 180]\n",
    "# 施設jの開設費用\n",
    "f = [1000, 1000, 1000]\n",
    "# 施設jの容量\n",
    "M = [500, 500, 500]\n",
    "# 施設jから顧客jに1単位輸送するときにかかるコスト\n",
    "c = [[4, 6, 9], [5, 4, 7], [6, 3, 4],\n",
    "     [8, 5, 3], [10, 8, 4]]\n",
    "I = range(len(d))\n",
    "J = range(len(f))\n",
    "\n",
    "## 最適化実行 ##\n",
    "model = flp(I, J, d, M, f, c)\n",
    "model.optimize()\n",
    "print('Optimal value: ', model.ObjVal)\n",
    "for v in model.getVars():\n",
    "    print(f'{v.VarName}: {v.X}')"
   ]
  },
  {
   "cell_type": "markdown",
   "metadata": {},
   "source": [
    "# p-Median"
   ]
  },
  {
   "cell_type": "code",
   "execution_count": 41,
   "metadata": {
    "ExecuteTime": {
     "end_time": "2020-03-28T18:45:01.182200Z",
     "start_time": "2020-03-28T18:45:01.171228Z"
    }
   },
   "outputs": [],
   "source": [
    "# 人口，距離データ読み込み\n",
    "w = np.loadtxt(\"demand_nara2013.csv\")\n",
    "d = np.loadtxt(\"dismat_daihyo.csv\", delimiter=\",\")\n",
    "\n",
    "I = range(len(demand))\n",
    "J = range(len(demand))\n",
    "\n",
    "# 配置施設数\n",
    "p = 4"
   ]
  },
  {
   "cell_type": "code",
   "execution_count": 42,
   "metadata": {
    "ExecuteTime": {
     "end_time": "2020-03-28T18:45:01.947855Z",
     "start_time": "2020-03-28T18:45:01.933893Z"
    }
   },
   "outputs": [],
   "source": [
    "def solve_pMedian(I, J, w, d, p):\n",
    "    model = Model('pMedian')\n",
    "    \n",
    "    ## 変数 ##\n",
    "    x, y = {}, {}\n",
    "    for j in J:\n",
    "        y[j] = model.addVar(vtype='B', name=f'y_{j}')\n",
    "        for i in I:\n",
    "            x[i, j] = model.addVar(vtype='B', name=f'x_{i},{j}')\n",
    "            \n",
    "    model.update()\n",
    "    \n",
    "    ## 定式化 ##\n",
    "    for i in I:\n",
    "        model.addConstr(quicksum(x[i, j] for j in J) == 1)\n",
    "    \n",
    "    model.addConstr(quicksum(y[j] for j in J) == p)\n",
    "    \n",
    "    for i, j in itertools.product(I, J):\n",
    "        model.addConstr(x[i, j] <= y[j])\n",
    "    \n",
    "    model.setObjective(quicksum(w[i] * d[i][j] * x[i, j] for j in J for i in I), GRB.MINIMIZE)\n",
    "    \n",
    "    model.update()\n",
    "    model.__data = x, y\n",
    "\n",
    "    return model    "
   ]
  },
  {
   "cell_type": "code",
   "execution_count": 43,
   "metadata": {
    "ExecuteTime": {
     "end_time": "2020-03-28T18:45:02.830458Z",
     "start_time": "2020-03-28T18:45:02.570191Z"
    }
   },
   "outputs": [
    {
     "name": "stdout",
     "output_type": "stream",
     "text": [
      "Optimal Value:  5628359.795 km\n",
      "Facilities are located at:\n",
      "y_0\n",
      "y_4\n",
      "y_8\n",
      "y_24\n"
     ]
    }
   ],
   "source": [
    "model = solve_pMedian(I, J, w, d, p)\n",
    "model.optimize()\n",
    "x, y = model.__data\n",
    "\n",
    "# 最適解\n",
    "print(f'Optimal Value: {model.ObjVal/1000: .3f} km')\n",
    "print('Facilities are located at:')\n",
    "eps = 1.0e-6\n",
    "for j in y:\n",
    "    if y[j].X > eps:\n",
    "        print(y[j])"
   ]
  },
  {
   "cell_type": "markdown",
   "metadata": {},
   "source": [
    "# p-Center"
   ]
  },
  {
   "cell_type": "code",
   "execution_count": 45,
   "metadata": {
    "ExecuteTime": {
     "end_time": "2020-04-02T16:25:21.467632Z",
     "start_time": "2020-04-02T16:25:21.447687Z"
    }
   },
   "outputs": [],
   "source": [
    "# 距離データ読み込み\n",
    "d = np.loadtxt(\"dismat_daihyo.csv\", delimiter=\",\")\n",
    "\n",
    "I = range(len(demand))\n",
    "J = range(len(demand))\n",
    "\n",
    "# 配置施設数\n",
    "p = 4"
   ]
  },
  {
   "cell_type": "code",
   "execution_count": 50,
   "metadata": {
    "ExecuteTime": {
     "end_time": "2020-04-02T17:27:50.765164Z",
     "start_time": "2020-04-02T17:27:50.752198Z"
    }
   },
   "outputs": [],
   "source": [
    "def solve_pCenter(I, J, d, p):\n",
    "    model = Model('pCenter')\n",
    "    \n",
    "    ## 変数 ##\n",
    "    x, y = {}, {}\n",
    "    for j in J:\n",
    "        y[j] = model.addVar(vtype='B', name=f'y_{j}')\n",
    "        for i in I:\n",
    "            x[i, j] = model.addVar(vtype='B', name=f'x_{i},{j}')\n",
    "    z = model.addVar(vtype='C', name='z')\n",
    "            \n",
    "    model.update()\n",
    "    \n",
    "    ## 定式化 ##\n",
    "    for i in I:\n",
    "        model.addConstr(quicksum(x[i, j] for j in J) == 1)\n",
    "        model.addConstr(quicksum(d[i][j] * x[i, j] for j in J) <= z)\n",
    "    model.addConstr(quicksum(y[j] for j in J) == p)\n",
    "    \n",
    "    for i, j in itertools.product(I, J):\n",
    "        model.addConstr(x[i, j] <= y[j])\n",
    "    \n",
    "    model.setObjective(z, GRB.MINIMIZE)\n",
    "    \n",
    "    model.update()\n",
    "    model.__data = x, y, z\n",
    "\n",
    "    return model    "
   ]
  },
  {
   "cell_type": "code",
   "execution_count": 51,
   "metadata": {
    "ExecuteTime": {
     "end_time": "2020-04-02T17:27:55.325424Z",
     "start_time": "2020-04-02T17:27:53.900271Z"
    }
   },
   "outputs": [
    {
     "name": "stdout",
     "output_type": "stream",
     "text": [
      "Optimal Value:  21.332 km\n",
      "Facilities are located at:\n",
      "y_6\n",
      "y_11\n",
      "y_15\n",
      "y_35\n"
     ]
    }
   ],
   "source": [
    "model = solve_pCenter(I, J, d, p)\n",
    "model.optimize()\n",
    "x, y, z = model.__data\n",
    "\n",
    "# 最適解\n",
    "print(f'Optimal Value: {model.ObjVal/1000: .3f} km')\n",
    "print('Facilities are located at:')\n",
    "eps = 1.0e-6\n",
    "for j in y:\n",
    "    if y[j].X > eps:\n",
    "        print(y[j])"
   ]
  },
  {
   "cell_type": "markdown",
   "metadata": {},
   "source": [
    "最大値を最小化するタイプの定式化は避けたい -> 2分探索を利用した定式化"
   ]
  },
  {
   "cell_type": "code",
   "execution_count": 110,
   "metadata": {
    "ExecuteTime": {
     "end_time": "2020-04-02T18:11:46.373767Z",
     "start_time": "2020-04-02T18:11:46.359767Z"
    }
   },
   "outputs": [],
   "source": [
    "def solve_pCover(I, J, a, d, p):\n",
    "    model = Model('pCover')\n",
    "    \n",
    "    ## 変数 ##\n",
    "    y, z = {}, {}\n",
    "    for i in I:\n",
    "        z[i] = model.addVar(vtype='B', name=f'z_{i}')\n",
    "    for j in J:\n",
    "        y[j] = model.addVar(vtype='B', name=f'y_{j}')\n",
    "            \n",
    "    model.update()\n",
    "    \n",
    "    ## 定式化 ##\n",
    "    for i in I:\n",
    "        model.addConstr(quicksum(a[i][j] * y[j] for j in J) + z[i] >= 1)\n",
    "\n",
    "    model.addConstr(quicksum(y[j] for j in J) == p)\n",
    "        \n",
    "    model.setObjective(quicksum(z[i] for i in I), GRB.MINIMIZE)\n",
    "    \n",
    "    model.update()\n",
    "    model.__data = y, z\n",
    "\n",
    "    return model    "
   ]
  },
  {
   "cell_type": "code",
   "execution_count": 111,
   "metadata": {
    "ExecuteTime": {
     "end_time": "2020-04-02T18:11:50.690308Z",
     "start_time": "2020-04-02T18:11:50.677343Z"
    }
   },
   "outputs": [],
   "source": [
    "def solve_pCenter2(I, J, d, p):\n",
    "    # 初期値\n",
    "    UB = d.max()\n",
    "    LB = 0\n",
    "    \n",
    "    while UB - LB > 1.0e-4:\n",
    "        theta = (UB + LB) / 2\n",
    "        a = [[1 if d[i][j] < theta else 0 for i in I] for j in J]\n",
    "        \n",
    "        model = solve_pCover(I, J, a, d, p)\n",
    "        model.optimize()\n",
    "        y, z = model.__data\n",
    "        infeasibility = sum([z[i].X for i in I])\n",
    "        \n",
    "        if infeasibility > 0:  # このthetaとpではカバーできない -> 最適解はtheta以上\n",
    "            LB = theta\n",
    "        else:\n",
    "            UB = theta\n",
    "        \n",
    "    model.__data = y, z\n",
    "    \n",
    "    return model, theta  "
   ]
  },
  {
   "cell_type": "code",
   "execution_count": 112,
   "metadata": {
    "ExecuteTime": {
     "end_time": "2020-04-02T18:11:53.100694Z",
     "start_time": "2020-04-02T18:11:51.553423Z"
    }
   },
   "outputs": [
    {
     "name": "stdout",
     "output_type": "stream",
     "text": [
      "Optimal Value:  21.332 km\n",
      "Facilities are located at:\n",
      "y_3\n",
      "y_33\n",
      "y_35\n",
      "y_38\n"
     ]
    }
   ],
   "source": [
    "model, theta = solve_pCenter2(I, J, d, p)\n",
    "y, z = model.__data\n",
    "\n",
    "# 最適解\n",
    "print(f'Optimal Value: {theta/1000: .3f} km')\n",
    "print('Facilities are located at:')\n",
    "eps = 1.0e-6\n",
    "for j in y:\n",
    "    if y[j].X > eps:\n",
    "        print(y[j])"
   ]
  }
 ],
 "metadata": {
  "kernelspec": {
   "display_name": "Python 3",
   "language": "python",
   "name": "python3"
  },
  "language_info": {
   "codemirror_mode": {
    "name": "ipython",
    "version": 3
   },
   "file_extension": ".py",
   "mimetype": "text/x-python",
   "name": "python",
   "nbconvert_exporter": "python",
   "pygments_lexer": "ipython3",
   "version": "3.7.2"
  },
  "toc": {
   "base_numbering": 1,
   "nav_menu": {},
   "number_sections": true,
   "sideBar": true,
   "skip_h1_title": false,
   "title_cell": "Table of Contents",
   "title_sidebar": "Contents",
   "toc_cell": false,
   "toc_position": {},
   "toc_section_display": true,
   "toc_window_display": true
  },
  "varInspector": {
   "cols": {
    "lenName": 16,
    "lenType": 16,
    "lenVar": 40
   },
   "kernels_config": {
    "python": {
     "delete_cmd_postfix": "",
     "delete_cmd_prefix": "del ",
     "library": "var_list.py",
     "varRefreshCmd": "print(var_dic_list())"
    },
    "r": {
     "delete_cmd_postfix": ") ",
     "delete_cmd_prefix": "rm(",
     "library": "var_list.r",
     "varRefreshCmd": "cat(var_dic_list()) "
    }
   },
   "types_to_exclude": [
    "module",
    "function",
    "builtin_function_or_method",
    "instance",
    "_Feature"
   ],
   "window_display": false
  }
 },
 "nbformat": 4,
 "nbformat_minor": 2
}
