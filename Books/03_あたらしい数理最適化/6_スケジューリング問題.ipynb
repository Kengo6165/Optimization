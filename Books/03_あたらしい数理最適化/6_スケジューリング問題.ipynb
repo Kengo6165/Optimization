{
 "cells": [
  {
   "cell_type": "code",
   "execution_count": 1,
   "metadata": {
    "ExecuteTime": {
     "end_time": "2020-04-17T14:47:04.310655Z",
     "start_time": "2020-04-17T14:47:03.192806Z"
    }
   },
   "outputs": [],
   "source": [
    "from mypulp import *\n",
    "import numpy as np\n",
    "import itertools\n",
    "import networkx as nx\n",
    "import math\n",
    "import matplotlib.pyplot as plt\n",
    "%matplotlib inline"
   ]
  },
  {
   "cell_type": "markdown",
   "metadata": {},
   "source": [
    "# スケジューリング問題"
   ]
  },
  {
   "cell_type": "markdown",
   "metadata": {},
   "source": [
    "## 1機械リリース時刻重み付き完了時刻和問題"
   ]
  },
  {
   "cell_type": "code",
   "execution_count": 14,
   "metadata": {
    "ExecuteTime": {
     "end_time": "2020-04-17T15:10:25.762333Z",
     "start_time": "2020-04-17T15:10:25.752358Z"
    }
   },
   "outputs": [],
   "source": [
    "def scheduling_disjunctive(J, p, r, w):\n",
    "    model = Model('scheduling_disjunctive')\n",
    "    M = max(r) + sum(p)\n",
    "\n",
    "    ## 変数 ##\n",
    "    s, x = {}, {}\n",
    "    for j in J:\n",
    "        s[j] = model.addVar(lb=r[j], vtype='C')\n",
    "        for k in J:\n",
    "            if j != k:\n",
    "                x[j, k] = model.addVar(vtype='B', name=f'x_{j},{k}')\n",
    "    model.update()\n",
    "    \n",
    "    ## 定式化 ##\n",
    "    for j in J:\n",
    "        for k in J:\n",
    "            if j != k:\n",
    "                model.addConstr(s[j] - s[k] + M*x[j, k] <= (M - p[j]))\n",
    "            if j < k:\n",
    "                model.addConstr(x[j, k] + x[k, j] == 1)\n",
    "    model.setObjective(quicksum(w[j] * s[j] for j in J), GRB.MINIMIZE)\n",
    "    \n",
    "    model.update()\n",
    "    model.__data = s, x\n",
    "    \n",
    "    return model"
   ]
  },
  {
   "cell_type": "code",
   "execution_count": 17,
   "metadata": {
    "ExecuteTime": {
     "end_time": "2020-04-17T15:10:51.001733Z",
     "start_time": "2020-04-17T15:10:50.783322Z"
    }
   },
   "outputs": [
    {
     "name": "stdout",
     "output_type": "stream",
     "text": [
      "Optimal Value: 60.0\n",
      "Optimal Solution: [x_0,1, x_0,3, x_0,5, x_2,0, x_2,1, x_2,3, x_2,5, x_3,1, x_3,5, x_4,0, x_4,1, x_4,2, x_4,3, x_4,5, x_5,1]\n"
     ]
    }
   ],
   "source": [
    "p = [1, 4, 2, 3, 1, 4]\n",
    "r = [4, 0, 2, 4, 1, 5]\n",
    "w = [3, 1, 2, 3, 1, 2]\n",
    "J = range(len(p))\n",
    "\n",
    "model = scheduling_disjunctive(J, p, r, w)\n",
    "model.optimize()\n",
    "s, x = model.__data\n",
    "\n",
    "# 最適解\n",
    "print(f'Optimal Value: {model.ObjVal}')\n",
    "\n",
    "eps = 1.0e-6\n",
    "optsol = []\n",
    "for j, k in x:\n",
    "    if x[j, k].X > eps:\n",
    "        optsol.append(x[j, k])\n",
    "print(f'Optimal Solution: {optsol}')"
   ]
  },
  {
   "cell_type": "code",
   "execution_count": null,
   "metadata": {},
   "outputs": [],
   "source": []
  }
 ],
 "metadata": {
  "kernelspec": {
   "display_name": "Python 3",
   "language": "python",
   "name": "python3"
  },
  "language_info": {
   "codemirror_mode": {
    "name": "ipython",
    "version": 3
   },
   "file_extension": ".py",
   "mimetype": "text/x-python",
   "name": "python",
   "nbconvert_exporter": "python",
   "pygments_lexer": "ipython3",
   "version": "3.7.2"
  },
  "toc": {
   "base_numbering": 1,
   "nav_menu": {},
   "number_sections": true,
   "sideBar": true,
   "skip_h1_title": false,
   "title_cell": "Table of Contents",
   "title_sidebar": "Contents",
   "toc_cell": false,
   "toc_position": {},
   "toc_section_display": true,
   "toc_window_display": false
  },
  "varInspector": {
   "cols": {
    "lenName": 16,
    "lenType": 16,
    "lenVar": 40
   },
   "kernels_config": {
    "python": {
     "delete_cmd_postfix": "",
     "delete_cmd_prefix": "del ",
     "library": "var_list.py",
     "varRefreshCmd": "print(var_dic_list())"
    },
    "r": {
     "delete_cmd_postfix": ") ",
     "delete_cmd_prefix": "rm(",
     "library": "var_list.r",
     "varRefreshCmd": "cat(var_dic_list()) "
    }
   },
   "types_to_exclude": [
    "module",
    "function",
    "builtin_function_or_method",
    "instance",
    "_Feature"
   ],
   "window_display": false
  }
 },
 "nbformat": 4,
 "nbformat_minor": 2
}
