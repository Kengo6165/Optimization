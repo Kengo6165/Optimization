{
 "cells": [
  {
   "cell_type": "code",
   "execution_count": 27,
   "metadata": {
    "ExecuteTime": {
     "end_time": "2020-04-04T16:35:14.703266Z",
     "start_time": "2020-04-04T16:35:14.694287Z"
    }
   },
   "outputs": [],
   "source": [
    "from mypulp import *\n",
    "import numpy as np\n",
    "import itertools\n",
    "import networkx as nx\n",
    "import math\n",
    "import matplotlib.pyplot as plt\n",
    "%matplotlib inline"
   ]
  },
  {
   "cell_type": "markdown",
   "metadata": {},
   "source": [
    "# グラフ分割問題"
   ]
  },
  {
   "cell_type": "code",
   "execution_count": 2,
   "metadata": {
    "ExecuteTime": {
     "end_time": "2020-04-04T15:46:09.798359Z",
     "start_time": "2020-04-04T15:46:09.791376Z"
    }
   },
   "outputs": [],
   "source": [
    "def make_example(n, prob):\n",
    "    np.random.seed(7)\n",
    "    V = range(n)\n",
    "    E = [(i, j) for i in V for j in V if i<j and np.random.rand()<prob]\n",
    "    return n, V, E"
   ]
  },
  {
   "cell_type": "code",
   "execution_count": 3,
   "metadata": {
    "ExecuteTime": {
     "end_time": "2020-04-04T15:46:10.396778Z",
     "start_time": "2020-04-04T15:46:10.383810Z"
    }
   },
   "outputs": [],
   "source": [
    "def solve_gpp(V, E):\n",
    "    model = Model('gpp')\n",
    "    \n",
    "    ## 変数 ##\n",
    "    x, y = {}, {}\n",
    "    for i in V:\n",
    "        x[i] = model.addVar(vtype='B', name=f'x_{i}')\n",
    "    for i, j in E:\n",
    "        y[i, j] = model.addVar(vtype='B', name=f'y_{i},{j}')\n",
    "    model.update()\n",
    "    \n",
    "    ## 定式化 ##\n",
    "    model.addConstr(quicksum(x[i] for i in V) == n/2)\n",
    "    \n",
    "    for i, j in E:\n",
    "        model.addConstr(x[i] - x[j] <= y[i, j])\n",
    "        model.addConstr(x[j] - x[i] <= y[i, j])\n",
    "\n",
    "    model.setObjective(quicksum(y[i, j] for i, j in E), GRB.MINIMIZE)\n",
    "    \n",
    "    model.update()\n",
    "    model.__data = x\n",
    "    \n",
    "    return model        "
   ]
  },
  {
   "cell_type": "code",
   "execution_count": 4,
   "metadata": {
    "ExecuteTime": {
     "end_time": "2020-04-04T15:46:12.983443Z",
     "start_time": "2020-04-04T15:46:10.915405Z"
    }
   },
   "outputs": [
    {
     "name": "stdout",
     "output_type": "stream",
     "text": [
      "Optimal Value: 17.0\n",
      "Optimal Solution: [x_0, x_1, x_2, x_3, x_5, x_6, x_8, x_14, x_15, x_19]\n"
     ]
    }
   ],
   "source": [
    "n, V, E = make_example(20, 0.3)\n",
    "model = solve_gpp(V, E)\n",
    "model.optimize()\n",
    "x = model.__data\n",
    "\n",
    "# 最適解\n",
    "print(f'Optimal Value: {model.ObjVal}')\n",
    "\n",
    "eps = 1.0e-6\n",
    "optsol = []\n",
    "for i in x:\n",
    "    if x[i].X > eps:\n",
    "        optsol.append(x[i])\n",
    "print(f'Optimal Solution: {optsol}')"
   ]
  },
  {
   "cell_type": "markdown",
   "metadata": {},
   "source": [
    "# 最大安定集合問題"
   ]
  },
  {
   "cell_type": "code",
   "execution_count": 5,
   "metadata": {
    "ExecuteTime": {
     "end_time": "2020-04-04T15:46:13.073712Z",
     "start_time": "2020-04-04T15:46:13.062742Z"
    }
   },
   "outputs": [],
   "source": [
    "def solve_ssp(V, E):\n",
    "    model = Model('ssp')\n",
    "\n",
    "    ## 変数 ##\n",
    "    x = {}\n",
    "    for i in V:\n",
    "        x[i] = model.addVar(vtype='B', name=f'x_{i}')\n",
    "    model.update()\n",
    "    \n",
    "    ## 定式化 ##    \n",
    "    for i, j in E:\n",
    "        model.addConstr(x[i] + x[j] <= 1)\n",
    "\n",
    "    model.setObjective(quicksum(x[i] for i in V), GRB.MAXIMIZE)\n",
    "    \n",
    "    model.update()\n",
    "    model.__data = x\n",
    "    \n",
    "    return model"
   ]
  },
  {
   "cell_type": "code",
   "execution_count": 6,
   "metadata": {
    "ExecuteTime": {
     "end_time": "2020-04-04T15:46:13.203370Z",
     "start_time": "2020-04-04T15:46:13.148514Z"
    }
   },
   "outputs": [
    {
     "name": "stdout",
     "output_type": "stream",
     "text": [
      "Optimal Value: 7.0\n",
      "Optimal Solution: [x_0, x_3, x_5, x_6, x_7, x_10, x_12]\n"
     ]
    }
   ],
   "source": [
    "n, V, E = make_example(15, 0.3)\n",
    "model = solve_ssp(V, E)\n",
    "model.optimize()\n",
    "x = model.__data\n",
    "\n",
    "# 最適解\n",
    "print(f'Optimal Value: {model.ObjVal}')\n",
    "\n",
    "eps = 1.0e-6\n",
    "optsol = []\n",
    "optidx = []\n",
    "for i in x:\n",
    "    if x[i].X > eps:\n",
    "        optsol.append(x[i])\n",
    "        optidx.append(i)\n",
    "print(f'Optimal Solution: {optsol}')"
   ]
  },
  {
   "cell_type": "code",
   "execution_count": 7,
   "metadata": {
    "ExecuteTime": {
     "end_time": "2020-04-04T15:46:13.884545Z",
     "start_time": "2020-04-04T15:46:13.535477Z"
    }
   },
   "outputs": [
    {
     "name": "stderr",
     "output_type": "stream",
     "text": [
      "C:\\Users\\kengo\\Anaconda3\\lib\\site-packages\\networkx\\drawing\\nx_pylab.py:579: MatplotlibDeprecationWarning: \n",
      "The iterable function was deprecated in Matplotlib 3.1 and will be removed in 3.3. Use np.iterable instead.\n",
      "  if not cb.iterable(width):\n"
     ]
    },
    {
     "data": {
      "text/plain": [
       "<matplotlib.collections.PathCollection at 0x1eed9d50cc0>"
      ]
     },
     "execution_count": 7,
     "metadata": {},
     "output_type": "execute_result"
    },
    {
     "data": {
      "image/png": "[encoded data removed]",
      "text/plain": [
       "<Figure size 432x288 with 1 Axes>"
      ]
     },
     "metadata": {},
     "output_type": "display_data"
    }
   ],
   "source": [
    "G = nx.Graph()\n",
    "G.add_nodes_from(V)\n",
    "G.add_edges_from(E)\n",
    "p = nx.spring_layout(G, iterations=100)\n",
    "nx.draw_networkx(G, pos=p, node_size=400)\n",
    "nx.draw_networkx_nodes(G, pos=p, node_size=400, node_color='red', nodelist=optidx)"
   ]
  },
  {
   "cell_type": "markdown",
   "metadata": {},
   "source": [
    "# グラフ彩色問題"
   ]
  },
  {
   "cell_type": "code",
   "execution_count": 8,
   "metadata": {
    "ExecuteTime": {
     "end_time": "2020-04-04T15:46:14.731309Z",
     "start_time": "2020-04-04T15:46:14.716350Z"
    }
   },
   "outputs": [],
   "source": [
    "def solve_gcp(V, E, K):\n",
    "    model = Model('gcp')\n",
    "\n",
    "    ## 変数 ##\n",
    "    x, y = {}, {}\n",
    "    for k in K:\n",
    "        y[k] = model.addVar(vtype='B', name=f'y_{k}')\n",
    "        for i in V:\n",
    "            x[i, k] = model.addVar(vtype='B', name=f'x_{i},{k}')\n",
    "    model.update()\n",
    "    \n",
    "    ## 定式化 ##\n",
    "    for i in V:\n",
    "        model.addConstr(quicksum(x[i, k] for k in K) == 1)\n",
    "    for i, j in E:\n",
    "        for k in K:\n",
    "            model.addConstr(x[i, k] + x[j, k] <= y[k])\n",
    "    for k in range(n-1):\n",
    "        model.addConstr(y[k] >= y[k+1])\n",
    "    \n",
    "    model.setObjective(quicksum(y[k] for k in K), GRB.MINIMIZE)\n",
    "    \n",
    "    model.update()\n",
    "    model.__data = x\n",
    "    \n",
    "    return model"
   ]
  },
  {
   "cell_type": "code",
   "execution_count": 9,
   "metadata": {
    "ExecuteTime": {
     "end_time": "2020-04-04T15:46:15.497259Z",
     "start_time": "2020-04-04T15:46:15.310757Z"
    }
   },
   "outputs": [
    {
     "name": "stdout",
     "output_type": "stream",
     "text": [
      "Optimal Value: 3.0\n",
      "Optimal Solution: [x_0,0, x_3,0, x_6,0, x_7,0, x_10,0, x_2,1, x_4,1, x_5,1, x_9,1, x_13,1, x_1,2, x_8,2, x_11,2, x_12,2, x_14,2]\n"
     ]
    }
   ],
   "source": [
    "n, V, E = make_example(15, 0.3)\n",
    "K = range(n)\n",
    "model = solve_gcp(V, E, K)\n",
    "model.optimize()\n",
    "x = model.__data\n",
    "\n",
    "# 最適解\n",
    "print(f'Optimal Value: {model.ObjVal}')\n",
    "\n",
    "eps = 1.0e-6\n",
    "optsol = []\n",
    "for i, k in x:\n",
    "    if x[i, k].X > eps:\n",
    "        optsol.append(x[i, k])\n",
    "\n",
    "print(f'Optimal Solution: {optsol}')"
   ]
  },
  {
   "cell_type": "markdown",
   "metadata": {},
   "source": [
    "色数を固定して二分探索により求める"
   ]
  },
  {
   "cell_type": "code",
   "execution_count": 10,
   "metadata": {
    "ExecuteTime": {
     "end_time": "2020-04-04T16:15:09.526405Z",
     "start_time": "2020-04-04T16:15:09.513439Z"
    }
   },
   "outputs": [],
   "source": [
    "def solve_gcp_fixed(V, E, K):\n",
    "    model = Model('gcp_fixed')\n",
    "\n",
    "    ## 変数 ##\n",
    "    x, z = {}, {}\n",
    "    for k in K:\n",
    "        for i in V:\n",
    "            x[i, k] = model.addVar(vtype='B', name=f'x_{i},{k}')\n",
    "    for i, j in E:\n",
    "        z[i, j] = model.addVar(vtype='B', name=f'z_{i},{j}')            \n",
    "    model.update()\n",
    "    \n",
    "    ## 定式化 ##\n",
    "    for i in V:\n",
    "        model.addConstr(quicksum(x[i, k] for k in K) == 1)\n",
    "    for i, j in E:\n",
    "        for k in K:\n",
    "            model.addConstr(x[i, k] + x[j, k] <= 1 + z[i, j])\n",
    "    \n",
    "    model.setObjective(quicksum(z[i, j] for i, j in E), GRB.MINIMIZE)\n",
    "    \n",
    "    model.update()\n",
    "    model.__data = x, z\n",
    "    \n",
    "    return model"
   ]
  },
  {
   "cell_type": "code",
   "execution_count": 32,
   "metadata": {
    "ExecuteTime": {
     "end_time": "2020-04-04T16:36:09.273701Z",
     "start_time": "2020-04-04T16:36:09.266721Z"
    }
   },
   "outputs": [],
   "source": [
    "def solve_gcp2(V, E):\n",
    "    # 初期値\n",
    "    UB = len(V)\n",
    "    LB = 1\n",
    "    \n",
    "    while UB - LB > 1:\n",
    "        K = math.floor((UB + LB) / 2)\n",
    "        \n",
    "        model = solve_gcp_fixed(V, E, range(K))\n",
    "        model.optimize()\n",
    "        \n",
    "        if model.ObjVal == 0:\n",
    "            UB = K\n",
    "        else:\n",
    "            LB = K\n",
    "    model.__data = x\n",
    "    \n",
    "    return model, K"
   ]
  },
  {
   "cell_type": "code",
   "execution_count": 35,
   "metadata": {
    "ExecuteTime": {
     "end_time": "2020-04-04T16:39:35.531895Z",
     "start_time": "2020-04-04T16:39:35.207755Z"
    }
   },
   "outputs": [
    {
     "name": "stdout",
     "output_type": "stream",
     "text": [
      "Optimal Value: 3\n",
      "Optimal Solution: [x_0,0, x_3,0, x_6,0, x_7,0, x_10,0, x_2,1, x_4,1, x_5,1, x_9,1, x_13,1, x_1,2, x_8,2, x_11,2, x_12,2, x_14,2]\n"
     ]
    }
   ],
   "source": [
    "n, V, E = make_example(15, 0.3)\n",
    "\n",
    "model, K = solve_gcp2(V, E)\n",
    "x = model.__data\n",
    "\n",
    "# 最適解\n",
    "print(f'Optimal Value: {K}')\n",
    "\n",
    "eps = 1.0e-6\n",
    "optsol = []\n",
    "for i, k in x:\n",
    "    if x[i, k].X > eps:\n",
    "        optsol.append(x[i, k])\n",
    "\n",
    "print(f'Optimal Solution: {optsol}')"
   ]
  },
  {
   "cell_type": "code",
   "execution_count": null,
   "metadata": {},
   "outputs": [],
   "source": []
  }
 ],
 "metadata": {
  "kernelspec": {
   "display_name": "Python 3",
   "language": "python",
   "name": "python3"
  },
  "language_info": {
   "codemirror_mode": {
    "name": "ipython",
    "version": 3
   },
   "file_extension": ".py",
   "mimetype": "text/x-python",
   "name": "python",
   "nbconvert_exporter": "python",
   "pygments_lexer": "ipython3",
   "version": "3.7.2"
  },
  "toc": {
   "base_numbering": 1,
   "nav_menu": {},
   "number_sections": true,
   "sideBar": true,
   "skip_h1_title": false,
   "title_cell": "Table of Contents",
   "title_sidebar": "Contents",
   "toc_cell": false,
   "toc_position": {},
   "toc_section_display": true,
   "toc_window_display": true
  },
  "varInspector": {
   "cols": {
    "lenName": 16,
    "lenType": 16,
    "lenVar": 40
   },
   "kernels_config": {
    "python": {
     "delete_cmd_postfix": "",
     "delete_cmd_prefix": "del ",
     "library": "var_list.py",
     "varRefreshCmd": "print(var_dic_list())"
    },
    "r": {
     "delete_cmd_postfix": ") ",
     "delete_cmd_prefix": "rm(",
     "library": "var_list.r",
     "varRefreshCmd": "cat(var_dic_list()) "
    }
   },
   "types_to_exclude": [
    "module",
    "function",
    "builtin_function_or_method",
    "instance",
    "_Feature"
   ],
   "window_display": false
  }
 },
 "nbformat": 4,
 "nbformat_minor": 2
}
