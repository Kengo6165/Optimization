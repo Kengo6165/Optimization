{
 "cells": [
  {
   "cell_type": "code",
   "execution_count": 1,
   "metadata": {
    "ExecuteTime": {
     "end_time": "2020-03-21T17:14:49.465432Z",
     "start_time": "2020-03-21T17:14:49.380609Z"
    }
   },
   "outputs": [],
   "source": [
    "from mypulp import * \n",
    "import itertools"
   ]
  },
  {
   "cell_type": "markdown",
   "metadata": {},
   "source": [
    "# 例題"
   ]
  },
  {
   "cell_type": "code",
   "execution_count": 6,
   "metadata": {
    "ExecuteTime": {
     "end_time": "2020-03-04T19:34:11.166820Z",
     "start_time": "2020-03-04T19:34:11.129920Z"
    }
   },
   "outputs": [
    {
     "name": "stdout",
     "output_type": "stream",
     "text": [
      "Optimal value:  1230.0\n",
      "x1 10.0\n",
      "x2 10.0\n",
      "x3 30.0\n"
     ]
    }
   ],
   "source": [
    "model = Model('example')\n",
    "\n",
    "# 変数\n",
    "x1 = model.addVar(vtype='C', name='x1')  # vtypeはデフォルトで'C'なので省略可\n",
    "x2 = model.addVar(name='x2')\n",
    "x3 = model.addVar(ub=30.0, name='x3')\n",
    "model.update()\n",
    "\n",
    "# 制約式\n",
    "model.addConstr(2*x1 + x2 + x3 <= 60)\n",
    "model.addConstr(x1 + 2*x2 + x3 <= 60)\n",
    "\n",
    "# 目的関数\n",
    "model.setObjective(15*x1 + 18*x2 + 30*x3, GRB.MAXIMIZE)\n",
    "\n",
    "# 最適化実行\n",
    "model.optimize()\n",
    "print('Optimal value: ', model.ObjVal)\n",
    "for v in model.getVars():\n",
    "    print(v.VarName, v.X)"
   ]
  },
  {
   "cell_type": "markdown",
   "metadata": {},
   "source": [
    "# 輸送問題"
   ]
  },
  {
   "cell_type": "markdown",
   "metadata": {},
   "source": [
    "## 1品種"
   ]
  },
  {
   "cell_type": "code",
   "execution_count": 11,
   "metadata": {
    "ExecuteTime": {
     "end_time": "2020-03-05T18:37:35.583614Z",
     "start_time": "2020-03-05T18:37:35.532208Z"
    }
   },
   "outputs": [
    {
     "name": "stdout",
     "output_type": "stream",
     "text": [
      "Optimal value:  3370.0\n",
      "sending quantity: 80.0 (from factory 0 to customer 0)\n",
      "sending quantity: 270.0 (from factory 1 to customer 1)\n",
      "sending quantity: 230.0 (from factory 1 to customer 2)\n",
      "sending quantity: 20.0 (from factory 2 to customer 2)\n",
      "sending quantity: 160.0 (from factory 2 to customer 3)\n",
      "sending quantity: 180.0 (from factory 2 to customer 4)\n",
      "\n",
      "**********************\n",
      "constants: slack, dual\n",
      "Demand(0): -0.0, 4.0\n",
      "Demand(1): -0.0, 5.0\n",
      "Demand(2): -0.0, 4.0\n",
      "Demand(3): -0.0, 3.0\n",
      "Demand(4): -0.0, 4.0\n",
      "Capacity(0): 420.0, 0.0\n",
      "Capacity(1): -0.0, -1.0\n",
      "Capacity(2): 140.0, 0.0\n"
     ]
    }
   ],
   "source": [
    "# 定数\n",
    "d = [80, 270, 250, 160, 180]  # 需要\n",
    "M = [500, 500, 500]  # 生産量の上限\n",
    "c = [[4, 6, 9], [5, 4, 7], [6, 3, 4], [8, 5, 3], [10, 8, 4]]  # コスト\n",
    "I = range(len(d))  # 顧客の集合\n",
    "J = range(len(M))  # 工場の集合\n",
    "\n",
    "model = Model('transportation')\n",
    "\n",
    "# 変数\n",
    "x = {}\n",
    "for i in I:\n",
    "    for j in J:\n",
    "        x[i, j] = model.addVar(vtype='C', name=f'x{i}{j}', lb=0)\n",
    "model.update()\n",
    "\n",
    "# 定式化\n",
    "for i in I:\n",
    "    model.addConstr(quicksum(x[i, j] for j in J) == d[i], name=f'Demand({i})')\n",
    "for j in J:\n",
    "    model.addConstr(quicksum(x[i, j] for i in I) <= M[j], name=f'Capacity({j})')\n",
    "model.setObjective(quicksum(c[i][j] * x[i, j] for i in I for j in J), GRB.MINIMIZE)\n",
    "\n",
    "# 最適化実行\n",
    "model.optimize()\n",
    "print('Optimal value: ', model.ObjVal)\n",
    "eps = 1.0e-6\n",
    "for i, j in itertools.product(I, J):\n",
    "    if x[i, j].X > eps:\n",
    "        print(f'sending quantity: {x[i, j].X} (from factory {j} to customer {i})')\n",
    "        \n",
    "# 双対\n",
    "print('\\n**********************')\n",
    "print('constants: slack, dual')\n",
    "for c in model.getConstrs():\n",
    "    print(f'{c.ConstrName}: {c.Slack}, {c.Pi}')"
   ]
  },
  {
   "cell_type": "markdown",
   "metadata": {},
   "source": [
    "## 多品種"
   ]
  },
  {
   "cell_type": "code",
   "execution_count": 13,
   "metadata": {
    "ExecuteTime": {
     "end_time": "2020-03-18T17:55:19.485707Z",
     "start_time": "2020-03-18T17:55:19.437837Z"
    },
    "scrolled": true
   },
   "outputs": [
    {
     "name": "stdout",
     "output_type": "stream",
     "text": [
      "Optimal value:  43536.0\n",
      "sending quantity of commodity 1: 85.0 (from factory 0 to customer 0)\n",
      "sending quantity of commodity 3: 6.0 (from factory 0 to customer 0)\n",
      "sending quantity of commodity 0: 80.0 (from factory 1 to customer 0)\n",
      "sending quantity of commodity 2: 300.0 (from factory 1 to customer 0)\n",
      "sending quantity of commodity 3: 7.0 (from factory 0 to customer 1)\n",
      "sending quantity of commodity 0: 270.0 (from factory 1 to customer 1)\n",
      "sending quantity of commodity 1: 160.0 (from factory 1 to customer 1)\n",
      "sending quantity of commodity 2: 400.0 (from factory 1 to customer 1)\n",
      "sending quantity of commodity 0: 250.0 (from factory 1 to customer 2)\n",
      "sending quantity of commodity 1: 130.0 (from factory 1 to customer 2)\n",
      "sending quantity of commodity 2: 350.0 (from factory 1 to customer 2)\n",
      "sending quantity of commodity 3: 4.0 (from factory 2 to customer 2)\n",
      "sending quantity of commodity 0: 160.0 (from factory 1 to customer 3)\n",
      "sending quantity of commodity 1: 60.0 (from factory 2 to customer 3)\n",
      "sending quantity of commodity 2: 200.0 (from factory 2 to customer 3)\n",
      "sending quantity of commodity 3: 3.0 (from factory 2 to customer 3)\n",
      "sending quantity of commodity 0: 180.0 (from factory 1 to customer 4)\n",
      "sending quantity of commodity 1: 40.0 (from factory 2 to customer 4)\n",
      "sending quantity of commodity 2: 150.0 (from factory 2 to customer 4)\n",
      "sending quantity of commodity 3: 5.0 (from factory 2 to customer 4)\n"
     ]
    }
   ],
   "source": [
    "# 定数\n",
    "d = [[80, 85, 300, 6], [270, 160, 400, 7], [250, 130, 350, 4],\n",
    "     [160, 60, 200, 3], [180, 40, 150, 5]]  # 顧客iの品種kの需要\n",
    "produce = [[1, 3], [0, 1, 2], [1, 2, 3]]  # 各工場jで生産可能な品種k\n",
    "weight = [5, 2, 3, 4]  # 品種kの重量\n",
    "M = [3000, 3000, 3000]  # 工場jの生産量の上限\n",
    "cost = [[4, 6, 9], [5, 4, 7], [6, 3, 4], [8, 5, 3], [10, 8, 4]]  # 顧客iに工場jから輸送するときにかかるコスト\n",
    "I = range(len(d))  # 顧客の集合\n",
    "J = range(len(M))  # 工場の集合\n",
    "K = range(len(weight))  # 品種の集合\n",
    "\n",
    "model = Model('multi-commodity transportation')\n",
    "\n",
    "# 品種ごとのコストを定義：単位コスト×重量\n",
    "c = {} # 顧客iに工場jから品種kを輸送するときにかかるコスト\n",
    "for i in I:\n",
    "    for j in J:\n",
    "        for k in produce[j]:\n",
    "            c[i, j, k] = cost[i][j] * weight[k] \n",
    "\n",
    "# 変数\n",
    "x = {}\n",
    "for i, j, k in c:\n",
    "    # 工場jが品種kを製造可能な場合のみx_ijkを定義\n",
    "    x[i, j, k] = model.addVar(vtype='C', lb=0)\n",
    "model.update()\n",
    "\n",
    "# 定式化\n",
    "for i in I:\n",
    "    for k in K:\n",
    "        model.addConstr(quicksum(x[i, j, k] for j in J if (i, j, k) in x) == d[i][k])\n",
    "for j in J:\n",
    "    model.addConstr(quicksum(x[i, j, k] for (i, j2, k) in x if j2==j) <= M[j])\n",
    "model.setObjective(quicksum(c[i, j, k] * x[i, j, k] for (i, j, k) in x), GRB.MINIMIZE)\n",
    "\n",
    "# 最適化実行\n",
    "model.optimize()\n",
    "print('Optimal value: ', model.ObjVal)\n",
    "eps = 1.0e-6\n",
    "for i, j, k in x:\n",
    "    if x[i, j, k].X > eps:\n",
    "        print(f'sending quantity of commodity {k}: {x[i, j, k].X} (from factory {j} to customer {i})')"
   ]
  },
  {
   "cell_type": "markdown",
   "metadata": {},
   "source": [
    "tuplelistを使って下のようにも定式化できる"
   ]
  },
  {
   "cell_type": "code",
   "execution_count": 19,
   "metadata": {
    "ExecuteTime": {
     "end_time": "2020-03-18T18:05:48.803001Z",
     "start_time": "2020-03-18T18:05:48.752073Z"
    }
   },
   "outputs": [
    {
     "name": "stdout",
     "output_type": "stream",
     "text": [
      "Optimal value:  43536.0\n"
     ]
    }
   ],
   "source": [
    "arcs = tuplelist([(i, j, k) for (i, j, k) in x])\n",
    "\n",
    "# 定式化\n",
    "for i in I:\n",
    "    for k in K:\n",
    "        model.addConstr(quicksum(x[i, j, k] for (i, j, k) in arcs.select(i, '*', k)) == d[i][k])\n",
    "for j in J:\n",
    "    model.addConstr(quicksum(x[i, j, k] for (i, j, k) in arcs.select('*', j, '*')) <= M[j])\n",
    "model.setObjective(quicksum(c[i, j, k] * x[i, j, k] for (i, j, k) in x), GRB.MINIMIZE)\n",
    "\n",
    "# 最適化実行\n",
    "model.optimize()\n",
    "print('Optimal value: ', model.ObjVal)"
   ]
  },
  {
   "cell_type": "markdown",
   "metadata": {},
   "source": [
    "# 混合問題"
   ]
  },
  {
   "cell_type": "code",
   "execution_count": 18,
   "metadata": {
    "ExecuteTime": {
     "end_time": "2020-03-23T15:50:29.617762Z",
     "start_time": "2020-03-23T15:50:29.571887Z"
    }
   },
   "outputs": [
    {
     "name": "stdout",
     "output_type": "stream",
     "text": [
      "0:  0.649\n",
      "1:  0.000\n",
      "2:  0.054\n",
      "3:  0.297\n"
     ]
    }
   ],
   "source": [
    "## 定数 ##\n",
    "# 原料iの成分kの含有率\n",
    "a = [[0.25, 0.15, 0.3], [0.3, 0.3, 0.1],\n",
    "     [0.15, 0.65, 0.05], [0.1, 0.05, 0.85]]\n",
    "# 原料iのコスト\n",
    "c = [5, 6, 8, 20]\n",
    "# 成分kの上下限\n",
    "UB = [0.2, 0.35, 1.0]\n",
    "LB = [0.1, 0, 0.45]\n",
    "\n",
    "I = range(len(c))\n",
    "K = range(len(UB))\n",
    "\n",
    "model = Model('product mix')\n",
    "\n",
    "## 変数 ##\n",
    "x = {}\n",
    "for i in I:\n",
    "    x[i] = model.addVar(vtype='C', lb=0)\n",
    "model.update()\n",
    "\n",
    "## 定式化 ##\n",
    "model.addConstr(quicksum(x[i] for i in I) == 1)\n",
    "for k in K:\n",
    "    model.addConstr(LB[k] <= quicksum(a[i][k] * x[i] for i in I))\n",
    "    model.addConstr(quicksum(a[i][k] * x[i] for i in I) <= UB[k])\n",
    "model.setObjective(quicksum(c[i] * x[i] for i in I), GRB.MINIMIZE)\n",
    "\n",
    "model.optimize()\n",
    "for i in I:\n",
    "    print(f'{i}: {x[i].X: .3f}')"
   ]
  },
  {
   "cell_type": "markdown",
   "metadata": {},
   "source": [
    "# 分数最適化"
   ]
  },
  {
   "cell_type": "code",
   "execution_count": 21,
   "metadata": {
    "ExecuteTime": {
     "end_time": "2020-03-23T16:10:34.831935Z",
     "start_time": "2020-03-23T16:10:34.635194Z"
    }
   },
   "outputs": [
    {
     "name": "stdout",
     "output_type": "stream",
     "text": [
      "(x, y, z) = (24.0, 8.0, 0.0)\n"
     ]
    }
   ],
   "source": [
    "LB, UB, EPS = 0.0, 1.0, 0.01\n",
    "\n",
    "while True:\n",
    "    model = Model('fractional2')\n",
    "    x = model.addVar(vtype='I', lb=0)\n",
    "    y = model.addVar(vtype='I', lb=0)\n",
    "    z = model.addVar(vtype='I', lb=0)\n",
    "    model.update()\n",
    "    \n",
    "    # 目的間数値がtheta以下の解があるか否か判定する部分問題\n",
    "    theta = (LB + UB) / 2\n",
    "    model.addConstr(x + y + z == 32)\n",
    "    model.addConstr(2*x + 4*y + 8*z == 80)\n",
    "    model.addConstr((2*theta - 1)*x +(4*theta - 1)*y >= 0)\n",
    "    model.setObjective(1, GRB.MINIMIZE)\n",
    "    model.optimize()\n",
    "    \n",
    "    if model.Status == 1:#GRB.OPTIMAL:\n",
    "        UB = theta\n",
    "        if UB - LB <= EPS:\n",
    "            break\n",
    "    else:\n",
    "        LB = theta\n",
    "\n",
    "print(f'(x, y, z) = {x.X, y.X, z.X}')"
   ]
  },
  {
   "cell_type": "markdown",
   "metadata": {},
   "source": [
    "# 多制約0-1ナップサック問題"
   ]
  },
  {
   "cell_type": "code",
   "execution_count": 23,
   "metadata": {
    "ExecuteTime": {
     "end_time": "2020-03-23T16:32:28.093906Z",
     "start_time": "2020-03-23T16:32:28.080975Z"
    }
   },
   "outputs": [],
   "source": [
    "# 多制約0-1ナップサック問題を解く関数\n",
    "def mkp(I, J, v, a, b):\n",
    "    model = Model('mkp')\n",
    "    \n",
    "    ## 変数 ##\n",
    "    x = {}\n",
    "    for i in I:\n",
    "        x[i] = model.addVar(vtype='B', name=f'x_{i}')\n",
    "    model.update()\n",
    "    \n",
    "    ## 定式化 ##\n",
    "    for j in J:\n",
    "        model.addConstr(quicksum(a[i][j] * x[i] for i in I) <= b[j])\n",
    "    model.setObjective(quicksum(v[i] * x[i] for i in I), GRB.MAXIMIZE)\n",
    "    model.update()\n",
    "    \n",
    "    return model"
   ]
  },
  {
   "cell_type": "code",
   "execution_count": 35,
   "metadata": {
    "ExecuteTime": {
     "end_time": "2020-03-23T16:40:38.941419Z",
     "start_time": "2020-03-23T16:40:38.903524Z"
    }
   },
   "outputs": [
    {
     "name": "stdout",
     "output_type": "stream",
     "text": [
      "Optimal value:  42.0\n",
      "x_0: 0.0\n",
      "x_1: 1.0\n",
      "x_2: 1.0\n",
      "x_3: 0.0\n"
     ]
    }
   ],
   "source": [
    "## 定数 ##\n",
    "# アイテムiの価値\n",
    "v = [16, 19, 23, 28]\n",
    "# アイテムiの制約jに対する重み\n",
    "a = [[2, 3000], [3, 3500], [4, 5100], [5, 7200]]\n",
    "# 制約jの上限値\n",
    "b = [7, 10000]\n",
    "\n",
    "I = range(len(v))\n",
    "J = range(len(b))\n",
    "\n",
    "## 最適化実行 ##\n",
    "model = mkp(I, J, v, a, b)\n",
    "model.optimize()\n",
    "print('Optimal value: ', model.ObjVal)\n",
    "for v in model.getVars():\n",
    "    print(f'{v.VarName}: {v.X}')"
   ]
  },
  {
   "cell_type": "markdown",
   "metadata": {},
   "source": [
    "# 栄養問題"
   ]
  },
  {
   "cell_type": "code",
   "execution_count": 58,
   "metadata": {
    "ExecuteTime": {
     "end_time": "2020-03-24T17:09:56.242956Z",
     "start_time": "2020-03-24T17:09:56.065214Z"
    },
    "scrolled": true
   },
   "outputs": [
    {
     "name": "stdout",
     "output_type": "stream",
     "text": [
      "d_0: 91.0\n",
      "d_1: 109.0\n",
      "d_3: 251.0\n",
      "d_4: 53.0\n",
      "s_0: 909.0\n",
      "s_2: 66.0\n",
      "s_5: 248.0\n",
      "s_6: 4.0\n",
      "x_0: 2.0\n",
      "x_1: 1.0\n",
      "x_2: 1.0\n",
      "x_4: 3.0\n",
      "x_5: 1.0\n"
     ]
    }
   ],
   "source": [
    "## 定数 ##\n",
    "# 商品jが含んでいる栄養素iの量\n",
    "n = [[556, 556, 356, 431, 249, 138, 69],\n",
    "     [39, 46, 42, 45, 30, 10, 17],\n",
    "     [30, 26, 14, 20, 3, 7, 1],\n",
    "     [147, 97, 28, 9, 0, 80, 750],\n",
    "     [10, 9, 1, 2, 5, 2, 2],\n",
    "     [221, 142, 76, 37, 7, 227, 18],\n",
    "     [2.4, 2.4, 0.7, 0.9, 0.6, 0, 0]]\n",
    "# 商品jの価格\n",
    "c = [360, 320, 270, 290, 190, 170, 100]\n",
    "# 栄養素iの上下限\n",
    "a = [3000, 375, 60, 750, 100, 900, 7.5]\n",
    "b = [2000, 300, 50, 500, 85, 660, 6.0]\n",
    "\n",
    "I = range(len(a))\n",
    "J = range(len(c))\n",
    "\n",
    "model = Model('diet problem')\n",
    "\n",
    "## 変数 ##\n",
    "x = {}\n",
    "for j in J:\n",
    "    x[j] = model.addVar(vtype='I', name=f'x_{j}', lb=0)\n",
    "\n",
    "# 制約の逸脱に対するペナルティ\n",
    "alpha = 10000\n",
    "d, s = {}, {}\n",
    "for i in I:\n",
    "    d[i] = model.addVar(vtype='I', name=f'd_{i}', lb=0)\n",
    "    s[i] = model.addVar(vtype='I', name=f's_{i}', lb=0)    \n",
    "model.update()\n",
    "\n",
    "## 定式化 ##\n",
    "for i in I:\n",
    "    model.addConstr(a[i] - d[i] <= quicksum(n[i][j] * x[j] for j in J))\n",
    "    model.addConstr(quicksum(n[i][j] * x[j] for j in J) <= b[i] + s[i])\n",
    "model.setObjective(quicksum(c[j] * x[j] for j in J) + alpha*quicksum(d[i] + s[i] for i in I), GRB.MINIMIZE)\n",
    "\n",
    "model.optimize()\n",
    "\n",
    "for v in model.getVars():\n",
    "    if v.X > 1.0e-6:\n",
    "        print(f'{v.VarName}: {v.X}')"
   ]
  },
  {
   "cell_type": "code",
   "execution_count": null,
   "metadata": {},
   "outputs": [],
   "source": []
  }
 ],
 "metadata": {
  "kernelspec": {
   "display_name": "Python 3",
   "language": "python",
   "name": "python3"
  },
  "language_info": {
   "codemirror_mode": {
    "name": "ipython",
    "version": 3
   },
   "file_extension": ".py",
   "mimetype": "text/x-python",
   "name": "python",
   "nbconvert_exporter": "python",
   "pygments_lexer": "ipython3",
   "version": "3.7.2"
  },
  "toc": {
   "base_numbering": 1,
   "nav_menu": {},
   "number_sections": true,
   "sideBar": true,
   "skip_h1_title": false,
   "title_cell": "Table of Contents",
   "title_sidebar": "Contents",
   "toc_cell": false,
   "toc_position": {},
   "toc_section_display": true,
   "toc_window_display": true
  },
  "varInspector": {
   "cols": {
    "lenName": 16,
    "lenType": 16,
    "lenVar": 40
   },
   "kernels_config": {
    "python": {
     "delete_cmd_postfix": "",
     "delete_cmd_prefix": "del ",
     "library": "var_list.py",
     "varRefreshCmd": "print(var_dic_list())"
    },
    "r": {
     "delete_cmd_postfix": ") ",
     "delete_cmd_prefix": "rm(",
     "library": "var_list.r",
     "varRefreshCmd": "cat(var_dic_list()) "
    }
   },
   "types_to_exclude": [
    "module",
    "function",
    "builtin_function_or_method",
    "instance",
    "_Feature"
   ],
   "window_display": false
  }
 },
 "nbformat": 4,
 "nbformat_minor": 2
}
