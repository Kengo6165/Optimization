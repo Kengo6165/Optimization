{
 "cells": [
  {
   "cell_type": "code",
   "execution_count": 96,
   "metadata": {
    "ExecuteTime": {
     "end_time": "2020-05-03T15:55:33.606034Z",
     "start_time": "2020-05-03T15:55:33.595064Z"
    }
   },
   "outputs": [],
   "source": [
    "from mypulp import *\n",
    "import numpy as np\n",
    "import itertools\n",
    "import networkx as nx\n",
    "import math\n",
    "import matplotlib.pyplot as plt\n",
    "import warnings\n",
    "%matplotlib inline\n",
    "warnings.simplefilter('ignore')"
   ]
  },
  {
   "cell_type": "markdown",
   "metadata": {},
   "source": [
    "# 巡回セールスマン問題"
   ]
  },
  {
   "cell_type": "code",
   "execution_count": 69,
   "metadata": {
    "ExecuteTime": {
     "end_time": "2020-05-03T15:24:39.444713Z",
     "start_time": "2020-05-03T15:24:39.421773Z"
    }
   },
   "outputs": [],
   "source": [
    "def solve_tsp_mtz(n, c):\n",
    "    model = Model('tsp_mtz')\n",
    "    V = [i for i in range(n)]\n",
    "\n",
    "    ## 変数 ##\n",
    "    x, u = {}, {}\n",
    "    for i, j in itertools.product(V, V):\n",
    "        if i != j:\n",
    "            x[i, j] = model.addVar(vtype='B', name=f'x_{i},{j}')\n",
    "    for i in V:\n",
    "        u[i] = model.addVar(vtype='C', lb=0, ub=n-1, name=f'u_{i}')\n",
    "    model.update()\n",
    "    \n",
    "    ## 定式化 ##\n",
    "    for i in V:\n",
    "        model.addConstr(quicksum(x[i, j] for j in V if j!=i) == 1)\n",
    "        model.addConstr(quicksum(x[j, i] for j in V if j!=i) == 1)\n",
    "        \n",
    "        for j in range(1, n):\n",
    "            if i != j:\n",
    "                #model.addConstr(u[i] + 1 - (n-1)*(1-x[i, j]) <= u[j])\n",
    "                model.addConstr(u[i] + 1 - (n-1)*(1-x[i, j]) + (n-3)*x[j, i] <= u[j])\n",
    "    for i in range(1, n):\n",
    "        model.addConstr(1 + (1-x[0, i]) + (n-3)*x[i, 0] <= u[i])\n",
    "        model.addConstr(u[i] <= (n-1) - (1-x[i, 0] - (n-3)*x[0, i]))\n",
    "    model.setObjective(quicksum(c[i, j] * x[i, j] for i, j in x), GRB.MINIMIZE)\n",
    "    \n",
    "    model.update()\n",
    "    model.__data = x, u\n",
    "    \n",
    "    return model"
   ]
  },
  {
   "cell_type": "code",
   "execution_count": 70,
   "metadata": {
    "ExecuteTime": {
     "end_time": "2020-05-03T15:24:40.222797Z",
     "start_time": "2020-05-03T15:24:39.733938Z"
    }
   },
   "outputs": [
    {
     "name": "stdout",
     "output_type": "stream",
     "text": [
      "Optimal Value: 2895.1716448889797\n"
     ]
    },
    {
     "data": {
      "image/png": "[encoded data removed]",
      "text/plain": [
       "<Figure size 432x288 with 1 Axes>"
      ]
     },
     "metadata": {},
     "output_type": "display_data"
    }
   ],
   "source": [
    "# n点からなるグラフの生成\n",
    "n = 15\n",
    "V = [i for i in range(n)]\n",
    "\n",
    "# コスト行列\n",
    "np.random.seed(1234)\n",
    "x = np.random.randint(low=0, high=1000, size=n)\n",
    "y = np.random.randint(low=0, high=1000, size=n)\n",
    "c = np.sqrt((x.reshape(-1,1) - x)**2 + (y.reshape(-1,1) - y)**2)  \n",
    "\n",
    "p = {i: (x[i], y[i]) for i in range(n)}\n",
    "\n",
    "model = solve_tsp_mtz(n, c)\n",
    "model.optimize()\n",
    "print(f'Optimal Value: {model.ObjVal}')\n",
    "\n",
    "# 解の描画\n",
    "x, u = model.__data\n",
    "eps = 1.0e-6\n",
    "optsol = []\n",
    "for i, j in x:\n",
    "    if x[i, j].X > eps:\n",
    "        optsol.append([i, j])\n",
    "\n",
    "G = nx.DiGraph()\n",
    "G.add_nodes_from(V)\n",
    "G.add_edges_from(optsol)\n",
    "nx.draw_networkx(G, draw_arrows=True, pos=p, node_color='k', node_size=10, with_labels=False)\n",
    "plt.show()"
   ]
  },
  {
   "cell_type": "markdown",
   "metadata": {},
   "source": [
    "# 多目的の巡回セールスマン問題"
   ]
  },
  {
   "cell_type": "markdown",
   "metadata": {},
   "source": [
    "## 加重和法"
   ]
  },
  {
   "cell_type": "code",
   "execution_count": 213,
   "metadata": {
    "ExecuteTime": {
     "end_time": "2020-05-03T17:41:04.425416Z",
     "start_time": "2020-05-03T17:41:04.406466Z"
    }
   },
   "outputs": [],
   "source": [
    "# 多目的最適化問題を解いてmodelを返す関数\n",
    "def solve_multiobject_tsp(n, c, t, alpha):\n",
    "    model = Model('tsp_mtz')\n",
    "    V = [i for i in range(n)]\n",
    "\n",
    "    ## 変数 ##\n",
    "    x, u = {}, {}\n",
    "    for i, j in itertools.product(V, V):\n",
    "        if i != j:\n",
    "            x[i, j] = model.addVar(vtype='B', name=f'x_{i},{j}')\n",
    "    for i in V:\n",
    "        u[i] = model.addVar(vtype='C', lb=0, ub=n-1, name=f'u_{i}')\n",
    "    C = model.addVar(vtype='C', name='C')\n",
    "    T = model.addVar(vtype='C', name='T')\n",
    "    model.update()\n",
    "    \n",
    "    ## 定式化 ##\n",
    "    for i in V:\n",
    "        model.addConstr(quicksum(x[i, j] for j in V if j!=i) == 1)\n",
    "        model.addConstr(quicksum(x[j, i] for j in V if j!=i) == 1)\n",
    "        \n",
    "        for j in range(1, n):\n",
    "            if i != j:\n",
    "                #model.addConstr(u[i] + 1 - (n-1)*(1-x[i, j]) <= u[j])\n",
    "                model.addConstr(u[i] + 1 - (n-1)*(1-x[i, j]) + (n-3)*x[j, i] <= u[j])\n",
    "    for i in range(1, n):\n",
    "        model.addConstr(1 + (1-x[0, i]) + (n-3)*x[i, 0] <= u[i])\n",
    "        model.addConstr(u[i] <= (n-1) - (1-x[i, 0] - (n-3)*x[0, i]))\n",
    "        \n",
    "    model.addConstr(T == quicksum(t[i, j] * x[i, j] for (i, j) in x), 'Time')\n",
    "    model.addConstr(C == quicksum(c[i, j] * x[i, j] for (i, j) in x), 'Cost')\n",
    "    \n",
    "    model.setObjective(quicksum((c[i, j] + alpha*t[i, j]) * x[i, j] for i, j in x), GRB.MINIMIZE)\n",
    "    \n",
    "    model.update()\n",
    "    model.__data = x, u, T, C\n",
    "    return model"
   ]
  },
  {
   "cell_type": "code",
   "execution_count": 223,
   "metadata": {
    "ExecuteTime": {
     "end_time": "2020-05-04T07:31:00.627489Z",
     "start_time": "2020-05-04T07:31:00.615558Z"
    }
   },
   "outputs": [],
   "source": [
    "# パレート最適解を列挙する関数\n",
    "def explore(C1, C2, T1, T2, set_pareto):\n",
    "    alpha = (C1 - C2) / (T2 - T1)\n",
    "    model = solve_multiobject_tsp(n, c, t, alpha)\n",
    "    model.optimize()\n",
    "    \n",
    "    _, _, T, C = model.__data\n",
    "    TM, CM = T.X, C.X\n",
    "    \n",
    "    # 解の集合が更新されなければ修了 + TM=T1orT2となって次のステップで0で割られることを防ぐ\n",
    "    if ((TM, CM) in set_pareto) or TM == T1 or TM == T2:\n",
    "        return set_pareto \n",
    "    \n",
    "    # 新しいパレート最適解が得られた場合は再帰的に呼び出し\n",
    "    #if TM > T1:\n",
    "    if not (TM >= T1 and CM >= C1):\n",
    "        set_pareto.add((TM, CM))\n",
    "        explore(C1, CM, T1, TM, set_pareto)\n",
    "    #if T2 > TM:\n",
    "    if not (TM >= T2 and CM >= C2):\n",
    "        set_pareto.add((TM, CM))\n",
    "        explore(CM, C2, TM, T2, set_pareto)\n",
    "    \n",
    "    return set_pareto"
   ]
  },
  {
   "cell_type": "code",
   "execution_count": 224,
   "metadata": {
    "ExecuteTime": {
     "end_time": "2020-05-04T07:31:01.292879Z",
     "start_time": "2020-05-04T07:31:01.274961Z"
    }
   },
   "outputs": [],
   "source": [
    "## 入力\n",
    "# n点からなるグラフの生成\n",
    "n = 15\n",
    "V = [i for i in range(n)]\n",
    "\n",
    "# コスト行列\n",
    "np.random.seed(1234)\n",
    "x1 = np.random.randint(low=0, high=100, size=n)\n",
    "y1 = np.random.randint(low=0, high=100, size=n)\n",
    "c = np.sqrt((x1.reshape(-1,1) - x1)**2 + (y1.reshape(-1,1) - y1)**2)\n",
    "c = np.round(c)\n",
    "\n",
    "# 時間行列\n",
    "np.random.seed(7)\n",
    "x2 = np.random.randint(low=0, high=100, size=n)\n",
    "y2 = np.random.randint(low=0, high=100, size=n)\n",
    "t = np.sqrt((x2.reshape(-1,1) - x2)**2 + (y2.reshape(-1,1) - y2)**2)\n",
    "t = np.round(t)"
   ]
  },
  {
   "cell_type": "code",
   "execution_count": 227,
   "metadata": {
    "ExecuteTime": {
     "end_time": "2020-05-04T07:33:30.819975Z",
     "start_time": "2020-05-04T07:33:29.168383Z"
    }
   },
   "outputs": [],
   "source": [
    "## パレート最適解の両端点\n",
    "set_pareto = set()\n",
    "\n",
    "model = solve_multiobject_tsp(n, c, t, alpha=1)\n",
    "x, u, T, C = model.__data\n",
    "\n",
    "# 時間最小\n",
    "model.setObjective(T, GRB.MINIMIZE)\n",
    "model.update()\n",
    "model.optimize()\n",
    "T1, C1 = T.X, C.X\n",
    "set_pareto.add((T1, C1))\n",
    "\n",
    "# コスト最小\n",
    "model.setObjective(C, GRB.MINIMIZE)\n",
    "model.update()\n",
    "model.optimize()\n",
    "T2, C2 = T.X, C.X\n",
    "set_pareto.add((T2, C2))"
   ]
  },
  {
   "cell_type": "code",
   "execution_count": 228,
   "metadata": {
    "ExecuteTime": {
     "end_time": "2020-05-04T07:34:40.722628Z",
     "start_time": "2020-05-04T07:33:30.970561Z"
    }
   },
   "outputs": [
    {
     "data": {
      "image/png": "[encoded data removed]",
      "text/plain": [
       "<Figure size 432x288 with 1 Axes>"
      ]
     },
     "metadata": {},
     "output_type": "display_data"
    }
   ],
   "source": [
    "set_pareto = explore(C1, C2, T1, T2, set_pareto)\n",
    "\n",
    "plt.figure(facecolor='azure')\n",
    "plt.xlabel('Time')\n",
    "plt.ylabel('Cost')\n",
    "\n",
    "for i in set_pareto:\n",
    "    plt.scatter(i[0], i[1], color='blue')  "
   ]
  },
  {
   "cell_type": "markdown",
   "metadata": {},
   "source": [
    "## 制約法\n",
    "* コスト最小化問題の解が複数ある場合は，パレート最適解以外の解も得られてしまう可能性がある"
   ]
  },
  {
   "cell_type": "code",
   "execution_count": 208,
   "metadata": {
    "ExecuteTime": {
     "end_time": "2020-05-03T17:37:31.334433Z",
     "start_time": "2020-05-03T17:37:31.315486Z"
    }
   },
   "outputs": [],
   "source": [
    "# 最適化問題を解いてmodelを返す関数\n",
    "def solve_multiobject_tsp(n, c, t):\n",
    "    model = Model('tsp_mtz')\n",
    "    V = [i for i in range(n)]\n",
    "\n",
    "    ## 変数 ##\n",
    "    x, u = {}, {}\n",
    "    for i, j in itertools.product(V, V):\n",
    "        if i != j:\n",
    "            x[i, j] = model.addVar(vtype='B', name=f'x_{i},{j}')\n",
    "    for i in V:\n",
    "        u[i] = model.addVar(vtype='C', lb=0, ub=n-1, name=f'u_{i}')\n",
    "    C = model.addVar(vtype='C', name='C')\n",
    "    T = model.addVar(vtype='C', name='T')\n",
    "    model.update()\n",
    "    \n",
    "    ## 定式化 ##\n",
    "    for i in V:\n",
    "        model.addConstr(quicksum(x[i, j] for j in V if j!=i) == 1)\n",
    "        model.addConstr(quicksum(x[j, i] for j in V if j!=i) == 1)\n",
    "        \n",
    "        for j in range(1, n):\n",
    "            if i != j:\n",
    "                #model.addConstr(u[i] + 1 - (n-1)*(1-x[i, j]) <= u[j])\n",
    "                model.addConstr(u[i] + 1 - (n-1)*(1-x[i, j]) + (n-3)*x[j, i] <= u[j])\n",
    "    for i in range(1, n):\n",
    "        model.addConstr(1 + (1-x[0, i]) + (n-3)*x[i, 0] <= u[i])\n",
    "        model.addConstr(u[i] <= (n-1) - (1-x[i, 0] - (n-3)*x[0, i]))\n",
    "        \n",
    "    model.addConstr(T == quicksum(t[i, j] * x[i, j] for (i, j) in x), 'Time')\n",
    "    model.addConstr(C == quicksum(c[i, j] * x[i, j] for (i, j) in x), 'Cost')\n",
    "    \n",
    "    model.setObjective(quicksum(c[i, j] * x[i, j] for i, j in x), GRB.MINIMIZE)\n",
    "    \n",
    "    model.update()\n",
    "    model.__data = x, u, T, C\n",
    "    return model"
   ]
  },
  {
   "cell_type": "code",
   "execution_count": 209,
   "metadata": {
    "ExecuteTime": {
     "end_time": "2020-05-03T17:37:31.422206Z",
     "start_time": "2020-05-03T17:37:31.411231Z"
    }
   },
   "outputs": [],
   "source": [
    "## 入力\n",
    "# n点からなるグラフの生成\n",
    "n = 15\n",
    "V = [i for i in range(n)]\n",
    "\n",
    "# コスト行列\n",
    "np.random.seed(1234)\n",
    "x1 = np.random.randint(low=0, high=100, size=n)\n",
    "y1 = np.random.randint(low=0, high=100, size=n)\n",
    "c = np.sqrt((x1.reshape(-1,1) - x1)**2 + (y1.reshape(-1,1) - y1)**2)\n",
    "c = np.round(c)\n",
    "\n",
    "# 時間行列\n",
    "np.random.seed(7)\n",
    "x2 = np.random.randint(low=0, high=100, size=n)\n",
    "y2 = np.random.randint(low=0, high=100, size=n)\n",
    "t = np.sqrt((x2.reshape(-1,1) - x2)**2 + (y2.reshape(-1,1) - y2)**2)\n",
    "t = np.round(t)"
   ]
  },
  {
   "cell_type": "code",
   "execution_count": 210,
   "metadata": {
    "ExecuteTime": {
     "end_time": "2020-05-03T17:37:32.928741Z",
     "start_time": "2020-05-03T17:37:31.500987Z"
    }
   },
   "outputs": [],
   "source": [
    "## パレート最適解の両端点\n",
    "set_pareto = set()\n",
    "\n",
    "# 時間最小\n",
    "model = solve_multiobject_tsp(n, c, t)\n",
    "x, u, T, C = model.__data\n",
    "model.setObjective(T, GRB.MINIMIZE)\n",
    "model.update()\n",
    "model.optimize()\n",
    "T1, C1 = T.X, C.X\n",
    "set_pareto.add((T1, C1))\n",
    "\n",
    "# コスト最小\n",
    "model.setObjective(C, GRB.MINIMIZE)\n",
    "model.update()\n",
    "model.optimize()\n",
    "T2, C2 = T.X, C.X\n",
    "set_pareto.add((T2, C2))"
   ]
  },
  {
   "cell_type": "markdown",
   "metadata": {},
   "source": [
    "コスト最小化問題に時間の上限の制約を適宜加えていく"
   ]
  },
  {
   "cell_type": "code",
   "execution_count": 211,
   "metadata": {
    "ExecuteTime": {
     "end_time": "2020-05-03T17:40:35.674640Z",
     "start_time": "2020-05-03T17:37:33.025016Z"
    }
   },
   "outputs": [],
   "source": [
    "continue_ = True\n",
    "\n",
    "# 時間を無視したコスト最小化問題のT\n",
    "presentT = T2\n",
    "\n",
    "while continue_:\n",
    "    model.addConstr(quicksum(t[i, j] * x[i, j] for (i, j) in x) <= presentT - 1)\n",
    "    model.update()\n",
    "    model.optimize()\n",
    "\n",
    "    T_, C_ = T.X, C.X\n",
    "    set_pareto.add((T_, C_))\n",
    "    presentT = T_\n",
    "    \n",
    "    # コストを無視した時間最小化問題の解までTが小さくなれば終了（それ以上は実行可能解がない）\n",
    "    if presentT <= T1:\n",
    "        continue_ = False"
   ]
  },
  {
   "cell_type": "code",
   "execution_count": 212,
   "metadata": {
    "ExecuteTime": {
     "end_time": "2020-05-03T17:40:36.179313Z",
     "start_time": "2020-05-03T17:40:35.841172Z"
    }
   },
   "outputs": [
    {
     "data": {
      "image/png": "[encoded data removed]",
      "text/plain": [
       "<Figure size 432x288 with 1 Axes>"
      ]
     },
     "metadata": {},
     "output_type": "display_data"
    }
   ],
   "source": [
    "plt.figure(facecolor='azure')\n",
    "plt.xlabel('Time')\n",
    "plt.ylabel('Cost')\n",
    "\n",
    "for i in set_pareto:\n",
    "    plt.scatter(i[0], i[1], color='blue')  "
   ]
  },
  {
   "cell_type": "code",
   "execution_count": null,
   "metadata": {},
   "outputs": [],
   "source": []
  }
 ],
 "metadata": {
  "kernelspec": {
   "display_name": "Python 3",
   "language": "python",
   "name": "python3"
  },
  "language_info": {
   "codemirror_mode": {
    "name": "ipython",
    "version": 3
   },
   "file_extension": ".py",
   "mimetype": "text/x-python",
   "name": "python",
   "nbconvert_exporter": "python",
   "pygments_lexer": "ipython3",
   "version": "3.7.2"
  },
  "toc": {
   "base_numbering": 1,
   "nav_menu": {},
   "number_sections": true,
   "sideBar": true,
   "skip_h1_title": false,
   "title_cell": "Table of Contents",
   "title_sidebar": "Contents",
   "toc_cell": false,
   "toc_position": {},
   "toc_section_display": true,
   "toc_window_display": true
  },
  "varInspector": {
   "cols": {
    "lenName": 16,
    "lenType": 16,
    "lenVar": 40
   },
   "kernels_config": {
    "python": {
     "delete_cmd_postfix": "",
     "delete_cmd_prefix": "del ",
     "library": "var_list.py",
     "varRefreshCmd": "print(var_dic_list())"
    },
    "r": {
     "delete_cmd_postfix": ") ",
     "delete_cmd_prefix": "rm(",
     "library": "var_list.r",
     "varRefreshCmd": "cat(var_dic_list()) "
    }
   },
   "types_to_exclude": [
    "module",
    "function",
    "builtin_function_or_method",
    "instance",
    "_Feature"
   ],
   "window_display": false
  }
 },
 "nbformat": 4,
 "nbformat_minor": 2
}
