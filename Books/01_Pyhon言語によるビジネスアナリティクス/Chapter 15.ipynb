{
 "cells": [
  {
   "cell_type": "markdown",
   "metadata": {},
   "source": [
    "# 動的最適化"
   ]
  },
  {
   "cell_type": "code",
   "execution_count": 6,
   "metadata": {
    "ExecuteTime": {
     "end_time": "2019-09-20T05:53:29.194799Z",
     "start_time": "2019-09-20T05:53:29.108686Z"
    }
   },
   "outputs": [],
   "source": [
    "import numpy as np\n",
    "import sys\n",
    "from pulp import *\n",
    "from functools import lru_cache\n",
    "sys.setrecursionlimit(10000)"
   ]
  },
  {
   "cell_type": "markdown",
   "metadata": {},
   "source": [
    "## 確定的動的最適化の例"
   ]
  },
  {
   "cell_type": "markdown",
   "metadata": {},
   "source": [
    "### 再帰とメモ化"
   ]
  },
  {
   "cell_type": "markdown",
   "metadata": {},
   "source": [
    "##### Fibonacci数\n",
    "以下のように再帰的に定義される．  \n",
    "$F_n = F_{n-1} + F_{n-2},$  \n",
    "$F_1 = F_2 = 1$"
   ]
  },
  {
   "cell_type": "code",
   "execution_count": 2,
   "metadata": {
    "ExecuteTime": {
     "end_time": "2019-09-19T16:42:01.261104Z",
     "start_time": "2019-09-19T16:42:01.256135Z"
    }
   },
   "outputs": [],
   "source": [
    "def fibonacci(n):\n",
    "    if n == 1 or n == 2:\n",
    "        return 1\n",
    "    else:\n",
    "        return fibonacci(n-2) + fibonacci(n-1)"
   ]
  },
  {
   "cell_type": "markdown",
   "metadata": {
    "ExecuteTime": {
     "end_time": "2019-09-19T16:42:34.429518Z",
     "start_time": "2019-09-19T16:42:34.424534Z"
    }
   },
   "source": [
    "これは何回も同じ関数が呼ばれ，効率が悪い  \n",
    "-> 引数としてmemoと名付けた辞書を渡し，一度計算した関数は記憶するようにする"
   ]
  },
  {
   "cell_type": "code",
   "execution_count": 8,
   "metadata": {
    "ExecuteTime": {
     "end_time": "2019-09-19T16:48:53.256166Z",
     "start_time": "2019-09-19T16:48:53.250182Z"
    }
   },
   "outputs": [],
   "source": [
    "def fibonacci_memo(n, memo={}):\n",
    "    if n == 1 or n == 2:\n",
    "        return 1\n",
    "    elif n not in memo:\n",
    "        memo[n] = fibonacci_memo(n-1) + fibonacci_memo(n-2)\n",
    "    return memo[n]"
   ]
  },
  {
   "cell_type": "code",
   "execution_count": 20,
   "metadata": {
    "ExecuteTime": {
     "end_time": "2019-09-19T16:58:49.286414Z",
     "start_time": "2019-09-19T16:58:49.279434Z"
    }
   },
   "outputs": [
    {
     "data": {
      "text/plain": [
       "354224848179261915075"
      ]
     },
     "execution_count": 20,
     "metadata": {},
     "output_type": "execute_result"
    }
   ],
   "source": [
    "fibonacci_memo(100)"
   ]
  },
  {
   "cell_type": "markdown",
   "metadata": {},
   "source": [
    "デコレ―タ関数lru_cacheを用いるとさらに簡潔に書ける（lruはleast recently usedの略）"
   ]
  },
  {
   "cell_type": "code",
   "execution_count": 16,
   "metadata": {
    "ExecuteTime": {
     "end_time": "2019-09-19T16:58:18.305012Z",
     "start_time": "2019-09-19T16:58:18.298030Z"
    }
   },
   "outputs": [],
   "source": [
    "@lru_cache(maxsize=None)\n",
    "def fibonacci_memo2(n):\n",
    "    if n == 1 or n == 2:\n",
    "        return 1\n",
    "    else:\n",
    "        return fibonacci_memo2(n-1) + fibonacci_memo2(n-2)"
   ]
  },
  {
   "cell_type": "code",
   "execution_count": 21,
   "metadata": {
    "ExecuteTime": {
     "end_time": "2019-09-19T16:58:51.709622Z",
     "start_time": "2019-09-19T16:58:51.703638Z"
    }
   },
   "outputs": [
    {
     "data": {
      "text/plain": [
       "354224848179261915075"
      ]
     },
     "execution_count": 21,
     "metadata": {},
     "output_type": "execute_result"
    }
   ],
   "source": [
    "fibonacci_memo2(100)"
   ]
  },
  {
   "cell_type": "markdown",
   "metadata": {},
   "source": [
    "### ナップサック問題"
   ]
  },
  {
   "cell_type": "code",
   "execution_count": 7,
   "metadata": {
    "ExecuteTime": {
     "end_time": "2019-09-20T05:57:22.235858Z",
     "start_time": "2019-09-20T05:57:22.229875Z"
    }
   },
   "outputs": [],
   "source": [
    "def create_toy_problem(size, seed):\n",
    "    np.random.seed(seed)\n",
    "    s = np.random.randint(2, 10, size=size)\n",
    "    v = s + np.random.randint(-1, 3, size=size)\n",
    "    return s, v"
   ]
  },
  {
   "cell_type": "markdown",
   "metadata": {},
   "source": [
    "#### 整数ナップサック問題"
   ]
  },
  {
   "cell_type": "markdown",
   "metadata": {},
   "source": [
    "Pulpから解く"
   ]
  },
  {
   "cell_type": "code",
   "execution_count": 10,
   "metadata": {
    "ExecuteTime": {
     "end_time": "2019-09-20T05:59:46.275064Z",
     "start_time": "2019-09-20T05:59:46.222205Z"
    }
   },
   "outputs": [
    {
     "name": "stdout",
     "output_type": "stream",
     "text": [
      "Status:  Optimal\n",
      "Optimal value = 40.0\n"
     ]
    }
   ],
   "source": [
    "s, v = create_toy_problem(size=100, seed=7)\n",
    "b = 20\n",
    "n = len(v)\n",
    "\n",
    "prob = LpProblem(sense=LpMaximize)\n",
    "x = [LpVariable(f'x{i}', lowBound=0, cat='Integer') for i in range(n)]\n",
    "prob += lpSum(v[i] * x[i] for i in range(n))\n",
    "prob += lpSum(s[i] * x[i] for i in range(n)) <= b\n",
    "\n",
    "prob.solve()\n",
    "print('Status: ', LpStatus[prob.status])\n",
    "print(f'Optimal value = {value(prob.objective)}')"
   ]
  },
  {
   "cell_type": "markdown",
   "metadata": {},
   "source": [
    "動的解法"
   ]
  },
  {
   "cell_type": "code",
   "execution_count": 70,
   "metadata": {
    "ExecuteTime": {
     "end_time": "2019-09-19T18:31:24.367373Z",
     "start_time": "2019-09-19T18:31:24.360355Z"
    }
   },
   "outputs": [],
   "source": [
    "def knapsack_problem(b):\n",
    "    if b == 0:\n",
    "        return 0\n",
    "    if b < 0:\n",
    "        return -99999\n",
    "    max_value = 0\n",
    "    for i, size in enumerate(s):\n",
    "        max_value = max(max_value, knapsack_problem(b-size) + v[i])\n",
    "    return max_value"
   ]
  },
  {
   "cell_type": "code",
   "execution_count": 72,
   "metadata": {
    "ExecuteTime": {
     "end_time": "2019-09-19T18:31:31.113531Z",
     "start_time": "2019-09-19T18:31:31.084609Z"
    }
   },
   "outputs": [
    {
     "data": {
      "text/plain": [
       "20"
      ]
     },
     "execution_count": 72,
     "metadata": {},
     "output_type": "execute_result"
    }
   ],
   "source": [
    "s, v = create_toy_problem(size=20, seed=7)\n",
    "knapsack_problem(b=10)"
   ]
  },
  {
   "cell_type": "markdown",
   "metadata": {},
   "source": [
    "メモ化を用いた解法"
   ]
  },
  {
   "cell_type": "code",
   "execution_count": 57,
   "metadata": {
    "ExecuteTime": {
     "end_time": "2019-09-19T18:11:52.713484Z",
     "start_time": "2019-09-19T18:11:52.703514Z"
    }
   },
   "outputs": [],
   "source": [
    "def knapsack_problem_memo(b, memo={}):\n",
    "    if b == 0:\n",
    "        return 0\n",
    "    if b < 0:\n",
    "        return -99999\n",
    "    if b in memo:\n",
    "        return memo[b]\n",
    "    else:\n",
    "        max_value = 0\n",
    "        for i in range(len(s)):\n",
    "            max_value = max(max_value, knapsack_problem_memo(b-s[i]) + v[i])\n",
    "        memo[b] = max_value\n",
    "        return max_value"
   ]
  },
  {
   "cell_type": "code",
   "execution_count": 65,
   "metadata": {
    "ExecuteTime": {
     "end_time": "2019-09-19T18:13:26.328764Z",
     "start_time": "2019-09-19T18:13:26.320784Z"
    }
   },
   "outputs": [
    {
     "data": {
      "text/plain": [
       "585"
      ]
     },
     "execution_count": 65,
     "metadata": {},
     "output_type": "execute_result"
    }
   ],
   "source": [
    "s, v = create_toy_problem(size=100, seed=7)\n",
    "knapsack_problem_memo(300)"
   ]
  },
  {
   "cell_type": "markdown",
   "metadata": {},
   "source": [
    "再帰を用いない前進型の動的最適化アルゴリズム"
   ]
  },
  {
   "cell_type": "code",
   "execution_count": 5,
   "metadata": {
    "ExecuteTime": {
     "end_time": "2019-09-20T05:47:54.309543Z",
     "start_time": "2019-09-20T05:47:54.298573Z"
    }
   },
   "outputs": [
    {
     "name": "stdout",
     "output_type": "stream",
     "text": [
      "Optimal value:  20\n"
     ]
    }
   ],
   "source": [
    "s, v = create_toy_problem(size=20, seed=7)\n",
    "b = 10\n",
    "\n",
    "# 各thetaに対して1つアイテムを足した時の値を見る\n",
    "# 解が良くなるなら更新．結局すべてのthetaに対して最も良い解を求めている\n",
    "f = {theta: 0 for theta in range(b+1)}\n",
    "for theta in range(b-min(s)+1):\n",
    "    for i, size in enumerate(s):\n",
    "        if theta + size > b:\n",
    "            continue\n",
    "        if f[theta+size] < f[theta] + v[i]:\n",
    "            f[theta+size] = f[theta] + v[i]\n",
    "\n",
    "print('Optimal value: ', f[b])"
   ]
  },
  {
   "cell_type": "markdown",
   "metadata": {},
   "source": [
    "#### 0-1ナップサック問題"
   ]
  },
  {
   "cell_type": "code",
   "execution_count": 11,
   "metadata": {
    "ExecuteTime": {
     "end_time": "2019-09-20T06:58:43.080275Z",
     "start_time": "2019-09-20T06:58:43.029372Z"
    }
   },
   "outputs": [
    {
     "name": "stdout",
     "output_type": "stream",
     "text": [
      "Status:  Optimal\n",
      "Optimal value = 38.0\n"
     ]
    }
   ],
   "source": [
    "s, v = create_toy_problem(size=100, seed=7)\n",
    "b = 20\n",
    "n = len(v)\n",
    "\n",
    "prob = LpProblem(sense=LpMaximize)\n",
    "x = [LpVariable(f'x{i}', lowBound=0, cat='Binary') for i in range(n)]\n",
    "prob += lpSum(v[i] * x[i] for i in range(n))\n",
    "prob += lpSum(s[i] * x[i] for i in range(n)) <= b\n",
    "\n",
    "prob.solve()\n",
    "print('Status: ', LpStatus[prob.status])\n",
    "print(f'Optimal value = {value(prob.objective)}')"
   ]
  },
  {
   "cell_type": "code",
   "execution_count": 16,
   "metadata": {
    "ExecuteTime": {
     "end_time": "2019-09-20T07:20:07.432233Z",
     "start_time": "2019-09-20T07:20:07.421264Z"
    }
   },
   "outputs": [],
   "source": [
    "def knapsack_problem_01(k, b, memo={}):\n",
    "    if b < 0:\n",
    "        return -99999\n",
    "    if k == 0:\n",
    "        if b >= s[0]:\n",
    "            return v[0]\n",
    "        else:\n",
    "            return 0\n",
    "    if (k, b) in memo:\n",
    "        return memo[k, b]\n",
    "    else:\n",
    "        max_value = max(knapsack_problem_01(k-1, b), knapsack_problem_01(k-1, b-s[k]) + v[k])\n",
    "        memo[k, b] = max_value\n",
    "        return max_value"
   ]
  },
  {
   "cell_type": "code",
   "execution_count": 18,
   "metadata": {
    "ExecuteTime": {
     "end_time": "2019-09-20T07:21:43.836299Z",
     "start_time": "2019-09-20T07:21:43.823335Z"
    }
   },
   "outputs": [
    {
     "data": {
      "text/plain": [
       "38"
      ]
     },
     "execution_count": 18,
     "metadata": {},
     "output_type": "execute_result"
    }
   ],
   "source": [
    "s, v = create_toy_problem(size=100, seed=7)\n",
    "b = 20\n",
    "k = len(v) - 1\n",
    "knapsack_problem_01(k, b)"
   ]
  },
  {
   "cell_type": "markdown",
   "metadata": {},
   "source": [
    "### 最大安定集合問題"
   ]
  },
  {
   "cell_type": "code",
   "execution_count": null,
   "metadata": {},
   "outputs": [],
   "source": []
  }
 ],
 "metadata": {
  "kernelspec": {
   "display_name": "Python 3",
   "language": "python",
   "name": "python3"
  },
  "language_info": {
   "codemirror_mode": {
    "name": "ipython",
    "version": 3
   },
   "file_extension": ".py",
   "mimetype": "text/x-python",
   "name": "python",
   "nbconvert_exporter": "python",
   "pygments_lexer": "ipython3",
   "version": "3.7.2"
  },
  "toc": {
   "base_numbering": 1,
   "nav_menu": {},
   "number_sections": true,
   "sideBar": true,
   "skip_h1_title": false,
   "title_cell": "Table of Contents",
   "title_sidebar": "Contents",
   "toc_cell": false,
   "toc_position": {},
   "toc_section_display": true,
   "toc_window_display": true
  },
  "varInspector": {
   "cols": {
    "lenName": 16,
    "lenType": 16,
    "lenVar": 40
   },
   "kernels_config": {
    "python": {
     "delete_cmd_postfix": "",
     "delete_cmd_prefix": "del ",
     "library": "var_list.py",
     "varRefreshCmd": "print(var_dic_list())"
    },
    "r": {
     "delete_cmd_postfix": ") ",
     "delete_cmd_prefix": "rm(",
     "library": "var_list.r",
     "varRefreshCmd": "cat(var_dic_list()) "
    }
   },
   "types_to_exclude": [
    "module",
    "function",
    "builtin_function_or_method",
    "instance",
    "_Feature"
   ],
   "window_display": false
  }
 },
 "nbformat": 4,
 "nbformat_minor": 2
}
