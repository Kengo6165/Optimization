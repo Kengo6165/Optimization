{
 "cells": [
  {
   "cell_type": "markdown",
   "metadata": {},
   "source": [
    "# 動的最適化"
   ]
  },
  {
   "cell_type": "code",
   "execution_count": 2,
   "metadata": {
    "ExecuteTime": {
     "end_time": "2019-09-22T18:33:53.104228Z",
     "start_time": "2019-09-22T18:33:49.834764Z"
    }
   },
   "outputs": [],
   "source": [
    "import numpy as np\n",
    "import sys\n",
    "import networkx as nx\n",
    "import matplotlib.pyplot as plt\n",
    "from pulp import *\n",
    "from functools import lru_cache\n",
    "sys.setrecursionlimit(10000)\n",
    "%matplotlib inline"
   ]
  },
  {
   "cell_type": "markdown",
   "metadata": {},
   "source": [
    "## 確定的動的最適化の例"
   ]
  },
  {
   "cell_type": "markdown",
   "metadata": {},
   "source": [
    "### 再帰とメモ化"
   ]
  },
  {
   "cell_type": "markdown",
   "metadata": {},
   "source": [
    "##### Fibonacci数\n",
    "以下のように再帰的に定義される．  \n",
    "$F_n = F_{n-1} + F_{n-2},$  \n",
    "$F_1 = F_2 = 1$"
   ]
  },
  {
   "cell_type": "code",
   "execution_count": 2,
   "metadata": {
    "ExecuteTime": {
     "end_time": "2019-09-19T16:42:01.261104Z",
     "start_time": "2019-09-19T16:42:01.256135Z"
    }
   },
   "outputs": [],
   "source": [
    "def fibonacci(n):\n",
    "    if n == 1 or n == 2:\n",
    "        return 1\n",
    "    else:\n",
    "        return fibonacci(n-2) + fibonacci(n-1)"
   ]
  },
  {
   "cell_type": "markdown",
   "metadata": {
    "ExecuteTime": {
     "end_time": "2019-09-19T16:42:34.429518Z",
     "start_time": "2019-09-19T16:42:34.424534Z"
    }
   },
   "source": [
    "これは何回も同じ関数が呼ばれ，効率が悪い  \n",
    "-> 引数としてmemoと名付けた辞書を渡し，一度計算した関数は記憶するようにする"
   ]
  },
  {
   "cell_type": "code",
   "execution_count": 8,
   "metadata": {
    "ExecuteTime": {
     "end_time": "2019-09-19T16:48:53.256166Z",
     "start_time": "2019-09-19T16:48:53.250182Z"
    }
   },
   "outputs": [],
   "source": [
    "def fibonacci_memo(n, memo={}):\n",
    "    if n == 1 or n == 2:\n",
    "        return 1\n",
    "    elif n not in memo:\n",
    "        memo[n] = fibonacci_memo(n-1) + fibonacci_memo(n-2)\n",
    "    return memo[n]"
   ]
  },
  {
   "cell_type": "code",
   "execution_count": 20,
   "metadata": {
    "ExecuteTime": {
     "end_time": "2019-09-19T16:58:49.286414Z",
     "start_time": "2019-09-19T16:58:49.279434Z"
    }
   },
   "outputs": [
    {
     "data": {
      "text/plain": [
       "354224848179261915075"
      ]
     },
     "execution_count": 20,
     "metadata": {},
     "output_type": "execute_result"
    }
   ],
   "source": [
    "fibonacci_memo(100)"
   ]
  },
  {
   "cell_type": "markdown",
   "metadata": {},
   "source": [
    "デコレ―タ関数lru_cacheを用いるとさらに簡潔に書ける（lruはleast recently usedの略）"
   ]
  },
  {
   "cell_type": "code",
   "execution_count": 16,
   "metadata": {
    "ExecuteTime": {
     "end_time": "2019-09-19T16:58:18.305012Z",
     "start_time": "2019-09-19T16:58:18.298030Z"
    }
   },
   "outputs": [],
   "source": [
    "@lru_cache(maxsize=None)\n",
    "def fibonacci_memo2(n):\n",
    "    if n == 1 or n == 2:\n",
    "        return 1\n",
    "    else:\n",
    "        return fibonacci_memo2(n-1) + fibonacci_memo2(n-2)"
   ]
  },
  {
   "cell_type": "code",
   "execution_count": 21,
   "metadata": {
    "ExecuteTime": {
     "end_time": "2019-09-19T16:58:51.709622Z",
     "start_time": "2019-09-19T16:58:51.703638Z"
    }
   },
   "outputs": [
    {
     "data": {
      "text/plain": [
       "354224848179261915075"
      ]
     },
     "execution_count": 21,
     "metadata": {},
     "output_type": "execute_result"
    }
   ],
   "source": [
    "fibonacci_memo2(100)"
   ]
  },
  {
   "cell_type": "markdown",
   "metadata": {},
   "source": [
    "### ナップサック問題"
   ]
  },
  {
   "cell_type": "code",
   "execution_count": 75,
   "metadata": {
    "ExecuteTime": {
     "end_time": "2019-09-20T18:01:14.019312Z",
     "start_time": "2019-09-20T18:01:14.010536Z"
    }
   },
   "outputs": [],
   "source": [
    "def create_toy_problem(size, seed):\n",
    "    np.random.seed(seed)\n",
    "    s = np.random.randint(2, 10, size=size)\n",
    "    v = s + np.random.randint(-1, 3, size=size)\n",
    "    return s, v"
   ]
  },
  {
   "cell_type": "markdown",
   "metadata": {},
   "source": [
    "#### 整数ナップサック問題"
   ]
  },
  {
   "cell_type": "markdown",
   "metadata": {},
   "source": [
    "Pulpから解く"
   ]
  },
  {
   "cell_type": "code",
   "execution_count": 10,
   "metadata": {
    "ExecuteTime": {
     "end_time": "2019-09-20T05:59:46.275064Z",
     "start_time": "2019-09-20T05:59:46.222205Z"
    }
   },
   "outputs": [
    {
     "name": "stdout",
     "output_type": "stream",
     "text": [
      "Status:  Optimal\n",
      "Optimal value = 40.0\n"
     ]
    }
   ],
   "source": [
    "s, v = create_toy_problem(size=100, seed=7)\n",
    "b = 20\n",
    "n = len(v)\n",
    "\n",
    "prob = LpProblem(sense=LpMaximize)\n",
    "x = [LpVariable(f'x{i}', lowBound=0, cat='Integer') for i in range(n)]\n",
    "prob += lpSum(v[i] * x[i] for i in range(n))\n",
    "prob += lpSum(s[i] * x[i] for i in range(n)) <= b\n",
    "\n",
    "prob.solve()\n",
    "print('Status: ', LpStatus[prob.status])\n",
    "print(f'Optimal value = {value(prob.objective)}')"
   ]
  },
  {
   "cell_type": "markdown",
   "metadata": {},
   "source": [
    "動的解法"
   ]
  },
  {
   "cell_type": "code",
   "execution_count": 76,
   "metadata": {
    "ExecuteTime": {
     "end_time": "2019-09-20T18:01:24.596563Z",
     "start_time": "2019-09-20T18:01:24.588679Z"
    }
   },
   "outputs": [],
   "source": [
    "def knapsack_problem(b):\n",
    "    if b == 0:\n",
    "        return 0\n",
    "    if b < 0:\n",
    "        return -99999\n",
    "    max_value = 0\n",
    "    for i, size in enumerate(s):\n",
    "        max_value = max(max_value, knapsack_problem(b-size) + v[i])\n",
    "    return max_value"
   ]
  },
  {
   "cell_type": "code",
   "execution_count": 81,
   "metadata": {
    "ExecuteTime": {
     "end_time": "2019-09-20T18:01:36.228094Z",
     "start_time": "2019-09-20T18:01:36.199234Z"
    }
   },
   "outputs": [
    {
     "data": {
      "text/plain": [
       "20"
      ]
     },
     "execution_count": 81,
     "metadata": {},
     "output_type": "execute_result"
    }
   ],
   "source": [
    "s, v = create_toy_problem(size=20, seed=7)\n",
    "knapsack_problem(b=10)"
   ]
  },
  {
   "cell_type": "markdown",
   "metadata": {},
   "source": [
    "メモ化を用いた解法"
   ]
  },
  {
   "cell_type": "code",
   "execution_count": 57,
   "metadata": {
    "ExecuteTime": {
     "end_time": "2019-09-19T18:11:52.713484Z",
     "start_time": "2019-09-19T18:11:52.703514Z"
    }
   },
   "outputs": [],
   "source": [
    "def knapsack_problem_memo(b, memo={}):\n",
    "    if b == 0:\n",
    "        return 0\n",
    "    if b < 0:\n",
    "        return -99999\n",
    "    if b in memo:\n",
    "        return memo[b]\n",
    "    else:\n",
    "        max_value = 0\n",
    "        for i in range(len(s)):\n",
    "            max_value = max(max_value, knapsack_problem_memo(b-s[i]) + v[i])\n",
    "        memo[b] = max_value\n",
    "        return max_value"
   ]
  },
  {
   "cell_type": "code",
   "execution_count": 65,
   "metadata": {
    "ExecuteTime": {
     "end_time": "2019-09-19T18:13:26.328764Z",
     "start_time": "2019-09-19T18:13:26.320784Z"
    }
   },
   "outputs": [
    {
     "data": {
      "text/plain": [
       "585"
      ]
     },
     "execution_count": 65,
     "metadata": {},
     "output_type": "execute_result"
    }
   ],
   "source": [
    "s, v = create_toy_problem(size=100, seed=7)\n",
    "knapsack_problem_memo(300)"
   ]
  },
  {
   "cell_type": "markdown",
   "metadata": {},
   "source": [
    "再帰を用いない前進型の動的最適化アルゴリズム"
   ]
  },
  {
   "cell_type": "code",
   "execution_count": 5,
   "metadata": {
    "ExecuteTime": {
     "end_time": "2019-09-20T05:47:54.309543Z",
     "start_time": "2019-09-20T05:47:54.298573Z"
    }
   },
   "outputs": [
    {
     "name": "stdout",
     "output_type": "stream",
     "text": [
      "Optimal value:  20\n"
     ]
    }
   ],
   "source": [
    "s, v = create_toy_problem(size=20, seed=7)\n",
    "b = 10\n",
    "\n",
    "# 各thetaに対して1つアイテムを足した時の値を見る\n",
    "# 解が良くなるなら更新．結局すべてのthetaに対して最も良い解を求めている\n",
    "f = {theta: 0 for theta in range(b+1)}\n",
    "for theta in range(b-min(s)+1):\n",
    "    for i, size in enumerate(s):\n",
    "        if theta + size > b:\n",
    "            continue\n",
    "        if f[theta+size] < f[theta] + v[i]:\n",
    "            f[theta+size] = f[theta] + v[i]\n",
    "\n",
    "print('Optimal value: ', f[b])"
   ]
  },
  {
   "cell_type": "markdown",
   "metadata": {},
   "source": [
    "#### 0-1ナップサック問題"
   ]
  },
  {
   "cell_type": "code",
   "execution_count": 11,
   "metadata": {
    "ExecuteTime": {
     "end_time": "2019-09-20T06:58:43.080275Z",
     "start_time": "2019-09-20T06:58:43.029372Z"
    }
   },
   "outputs": [
    {
     "name": "stdout",
     "output_type": "stream",
     "text": [
      "Status:  Optimal\n",
      "Optimal value = 38.0\n"
     ]
    }
   ],
   "source": [
    "s, v = create_toy_problem(size=100, seed=7)\n",
    "b = 20\n",
    "n = len(v)\n",
    "\n",
    "prob = LpProblem(sense=LpMaximize)\n",
    "x = [LpVariable(f'x{i}', lowBound=0, cat='Binary') for i in range(n)]\n",
    "prob += lpSum(v[i] * x[i] for i in range(n))\n",
    "prob += lpSum(s[i] * x[i] for i in range(n)) <= b\n",
    "\n",
    "prob.solve()\n",
    "print('Status: ', LpStatus[prob.status])\n",
    "print(f'Optimal value = {value(prob.objective)}')"
   ]
  },
  {
   "cell_type": "code",
   "execution_count": 127,
   "metadata": {
    "ExecuteTime": {
     "end_time": "2019-09-20T18:07:06.001536Z",
     "start_time": "2019-09-20T18:07:05.989622Z"
    }
   },
   "outputs": [],
   "source": [
    "def knapsack_problem_01(k, b, memo={}):\n",
    "    if b < 0:\n",
    "        return -99999\n",
    "    if k == 0:\n",
    "        if b >= s[0]:\n",
    "            return v[0]\n",
    "        else:\n",
    "            return 0\n",
    "    if (k, b) in memo:\n",
    "        return memo[k, b]\n",
    "    else:\n",
    "        max_value = max(knapsack_problem_01(k-1, b), knapsack_problem_01(k-1, b-s[k]) + v[k])\n",
    "        memo[k, b] = max_value\n",
    "        return max_value"
   ]
  },
  {
   "cell_type": "code",
   "execution_count": 128,
   "metadata": {
    "ExecuteTime": {
     "end_time": "2019-09-20T18:07:06.220029Z",
     "start_time": "2019-09-20T18:07:06.203751Z"
    }
   },
   "outputs": [
    {
     "data": {
      "text/plain": [
       "38"
      ]
     },
     "execution_count": 128,
     "metadata": {},
     "output_type": "execute_result"
    }
   ],
   "source": [
    "s, v = create_toy_problem(size=100, seed=7)\n",
    "b = 20\n",
    "k = len(v) - 1\n",
    "knapsack_problem_01(k, b)"
   ]
  },
  {
   "cell_type": "markdown",
   "metadata": {},
   "source": [
    "### 最大安定集合問題"
   ]
  },
  {
   "cell_type": "code",
   "execution_count": 76,
   "metadata": {
    "ExecuteTime": {
     "end_time": "2019-09-21T17:57:34.861599Z",
     "start_time": "2019-09-21T17:57:34.846556Z"
    }
   },
   "outputs": [],
   "source": [
    "class Create_toy_problem2:\n",
    "    def __init__(self, size, seed):\n",
    "        self.size = size\n",
    "        self.seed = seed\n",
    "\n",
    "    def ex1(self):\n",
    "        np.random.seed(self.seed)\n",
    "        w = np.random.randint(1, 5, size=self.size)\n",
    "        return w\n",
    "    \n",
    "    def ex2(self):\n",
    "        np.random.seed(self.seed)\n",
    "        w = np.random.randint(1, 5, size=self.size)\n",
    "        while True:\n",
    "            G = nx.fast_gnp_random_graph(n=self.size, p=0.3, seed=self.seed)\n",
    "            if nx.is_connected(G):\n",
    "                break\n",
    "        return G, w"
   ]
  },
  {
   "cell_type": "markdown",
   "metadata": {},
   "source": [
    "グラフが一列に並んでいる特殊な状況を考える"
   ]
  },
  {
   "cell_type": "code",
   "execution_count": 77,
   "metadata": {
    "ExecuteTime": {
     "end_time": "2019-09-21T17:57:35.608359Z",
     "start_time": "2019-09-21T17:57:35.601491Z"
    }
   },
   "outputs": [],
   "source": [
    "def path_stable(i, memo={}):\n",
    "    if i < 0:\n",
    "        return 0\n",
    "    elif i == 0:\n",
    "        return w[i]\n",
    "    elif i not in memo:\n",
    "        max_value = max(path_stable(i-1), path_stable(i-2)+w[i])\n",
    "        memo[i] = max_value\n",
    "    return memo[i]"
   ]
  },
  {
   "cell_type": "code",
   "execution_count": 78,
   "metadata": {
    "ExecuteTime": {
     "end_time": "2019-09-21T17:57:36.213635Z",
     "start_time": "2019-09-21T17:57:36.204918Z"
    }
   },
   "outputs": [
    {
     "name": "stdout",
     "output_type": "stream",
     "text": [
      "31\n"
     ]
    }
   ],
   "source": [
    "w = Create_toy_problem2(size=20, seed=7).ex1()\n",
    "n = len(w)\n",
    "print(path_stable(n-1))"
   ]
  },
  {
   "cell_type": "markdown",
   "metadata": {},
   "source": [
    "前進型"
   ]
  },
  {
   "cell_type": "code",
   "execution_count": 79,
   "metadata": {
    "ExecuteTime": {
     "end_time": "2019-09-21T17:57:37.224247Z",
     "start_time": "2019-09-21T17:57:37.209987Z"
    }
   },
   "outputs": [
    {
     "name": "stdout",
     "output_type": "stream",
     "text": [
      "Optimal value:  31\n"
     ]
    }
   ],
   "source": [
    "w = Create_toy_problem2(size=20, seed=7).ex1()\n",
    "n = len(w)\n",
    "f = {-1: 0, 0: w[0]}\n",
    "for i in range(1, n):\n",
    "    f[i] = max(f[i-1], f[i-2]+w[i])\n",
    "print('Optimal value: ', f[n-1])"
   ]
  },
  {
   "cell_type": "markdown",
   "metadata": {},
   "source": [
    "最適解"
   ]
  },
  {
   "cell_type": "code",
   "execution_count": 82,
   "metadata": {
    "ExecuteTime": {
     "end_time": "2019-09-21T17:57:58.924579Z",
     "start_time": "2019-09-21T17:57:58.908884Z"
    }
   },
   "outputs": [
    {
     "name": "stdout",
     "output_type": "stream",
     "text": [
      "Optimal solution:  [18, 16, 14, 11, 9, 7, 5, 3, 0]\n"
     ]
    }
   ],
   "source": [
    "i = n-1\n",
    "opt_sol = []\n",
    "\n",
    "# i番目が最適解に含まれるか判定\n",
    "while i >= 1:\n",
    "    if f[i-1] >= f[i-2] + w[i]:  # 含まれない\n",
    "        i = i-1\n",
    "    else:  # 含まれる\n",
    "        opt_sol.append(i)\n",
    "        i = i-2\n",
    "if np.min(opt_sol) != 1:\n",
    "    opt_sol.append(0)\n",
    "print('Optimal solution: ', opt_sol)"
   ]
  },
  {
   "cell_type": "code",
   "execution_count": 83,
   "metadata": {
    "ExecuteTime": {
     "end_time": "2019-09-21T17:58:00.973508Z",
     "start_time": "2019-09-21T17:58:00.961075Z"
    }
   },
   "outputs": [
    {
     "data": {
      "text/plain": [
       "31"
      ]
     },
     "execution_count": 83,
     "metadata": {},
     "output_type": "execute_result"
    }
   ],
   "source": [
    "np.sum(w[opt_sol])"
   ]
  },
  {
   "cell_type": "markdown",
   "metadata": {},
   "source": [
    "一般のグラフに対して最大安定集合問題を考える"
   ]
  },
  {
   "cell_type": "code",
   "execution_count": 162,
   "metadata": {
    "ExecuteTime": {
     "end_time": "2019-09-21T18:47:23.503772Z",
     "start_time": "2019-09-21T18:47:23.494842Z"
    }
   },
   "outputs": [],
   "source": [
    "def stable(S, memo={}):\n",
    "    if len(S) == 0:\n",
    "        return 0\n",
    "    if len(S) == 1:\n",
    "        return w[S.pop()]\n",
    "    fs = frozenset(S)\n",
    "    if fs in memo:\n",
    "        return memo[fs]\n",
    "    else:\n",
    "        max_value = 0\n",
    "        for i in range(len(S)):\n",
    "            S0 = S[:]\n",
    "            k = S0.pop(i)\n",
    "            S1 = set(S0).difference(set(G.adj[k].keys()))  # G.adj[k]: kに隣接する点をキーにもつ辞書を返す\n",
    "            max_value = max(stable(S0), stable(list(S1))+w[k], max_value)\n",
    "        memo[fs] = max_value\n",
    "        return max_value"
   ]
  },
  {
   "cell_type": "code",
   "execution_count": 163,
   "metadata": {
    "ExecuteTime": {
     "end_time": "2019-09-21T18:47:24.688634Z",
     "start_time": "2019-09-21T18:47:24.151399Z"
    }
   },
   "outputs": [
    {
     "name": "stdout",
     "output_type": "stream",
     "text": [
      "Optimal value:  13\n"
     ]
    },
    {
     "data": {
      "image/png": "[encoded data removed]",
      "text/plain": [
       "<Figure size 432x288 with 1 Axes>"
      ]
     },
     "metadata": {},
     "output_type": "display_data"
    }
   ],
   "source": [
    "G, w = Create_toy_problem2(10, 7).ex2()\n",
    "pos = nx.spring_layout(G)\n",
    "weight = {i: w[i] for i in range(len(G.nodes()))}\n",
    "nx.draw_networkx(G, pos=pos, with_labels=True, labels=weight)\n",
    "\n",
    "print('Optimal value: ', stable(list(G.nodes())))"
   ]
  },
  {
   "cell_type": "markdown",
   "metadata": {},
   "source": [
    "### 巡回セールスマン問題"
   ]
  },
  {
   "cell_type": "code",
   "execution_count": 155,
   "metadata": {
    "ExecuteTime": {
     "end_time": "2019-09-21T18:38:35.992425Z",
     "start_time": "2019-09-21T18:38:35.974727Z"
    }
   },
   "outputs": [],
   "source": [
    "def toy_problem3(n_nodes, seed):\n",
    "    np.random.seed(seed)\n",
    "    x = np.random.randint(low=0, high=1000, size=n_nodes)\n",
    "    y = np.random.randint(low=0, high=1000, size=n_nodes)\n",
    "    p = {i: (x[i], y[i]) for i in range(n)}\n",
    "    D = np.sqrt((x.reshape(-1, 1) - x)**2 + (y.reshape(-1, 1) - y)**2)\n",
    "    return n_nodes, D, G, p"
   ]
  },
  {
   "cell_type": "code",
   "execution_count": 156,
   "metadata": {
    "ExecuteTime": {
     "end_time": "2019-09-21T18:38:37.018449Z",
     "start_time": "2019-09-21T18:38:37.004307Z"
    }
   },
   "outputs": [],
   "source": [
    "def TSP(j, S, memo={}):\n",
    "    fs = frozenset(S)\n",
    "    if (j, fs) in memo:\n",
    "        return memo[j, fs]\n",
    "    elif fs == frozenset({j}):\n",
    "        return d[n-1, j]  # n-1を始点とするため（別にどこでもいい）\n",
    "    else:\n",
    "        S0 = S.copy()\n",
    "        S0.remove(j)\n",
    "        min_value = 99999\n",
    "        for i in S0:\n",
    "            min_value = min(TSP(i, S0, memo)+d[i, j], min_value)\n",
    "        memo[j, fs] = min_value\n",
    "        return min_value"
   ]
  },
  {
   "cell_type": "code",
   "execution_count": 157,
   "metadata": {
    "ExecuteTime": {
     "end_time": "2019-09-21T18:38:38.906785Z",
     "start_time": "2019-09-21T18:38:38.901799Z"
    }
   },
   "outputs": [],
   "source": [
    "n, d, G, p = toy_problem3(15, 7)"
   ]
  },
  {
   "cell_type": "code",
   "execution_count": 158,
   "metadata": {
    "ExecuteTime": {
     "end_time": "2019-09-21T18:38:42.472487Z",
     "start_time": "2019-09-21T18:38:39.613291Z"
    }
   },
   "outputs": [
    {
     "data": {
      "text/plain": [
       "3212.9000112123576"
      ]
     },
     "execution_count": 158,
     "metadata": {},
     "output_type": "execute_result"
    }
   ],
   "source": [
    "TSP(n-1, set(range(n)))"
   ]
  },
  {
   "cell_type": "markdown",
   "metadata": {},
   "source": [
    "### 集合被覆問題"
   ]
  },
  {
   "cell_type": "code",
   "execution_count": 61,
   "metadata": {
    "ExecuteTime": {
     "end_time": "2019-09-22T19:04:24.221682Z",
     "start_time": "2019-09-22T19:04:24.207074Z"
    }
   },
   "outputs": [],
   "source": [
    "def toy_problem4(m, n, seed):\n",
    "    np.random.seed(seed)\n",
    "    a = np.random.randint(0, 2, size=(m, n))\n",
    "    # どの施設にもカバーされない需要があれば作り直し\n",
    "    while np.all(a.sum(axis=1) == 0):\n",
    "        seed += 1\n",
    "        np.random.seed(seed)\n",
    "        a = np.random.randint(0, 2, size=(m, n))\n",
    "    S = {}  # j番目の列で1が入っているインデックスの番号を格納した辞書\n",
    "    for j in range(n):\n",
    "        S[j] = [i for i in range(m) if a[i, j] == 1]\n",
    "    return m, n, a, S"
   ]
  },
  {
   "cell_type": "code",
   "execution_count": 65,
   "metadata": {
    "ExecuteTime": {
     "end_time": "2019-09-22T19:04:43.822075Z",
     "start_time": "2019-09-22T19:04:43.808911Z"
    }
   },
   "outputs": [],
   "source": [
    "def set_cover(k, C, memo={}):\n",
    "    if len(C) == 0:\n",
    "        return 0\n",
    "    if k < 0:\n",
    "        return 99999\n",
    "    fs = frozenset(C)\n",
    "    if (k, fs) in memo:\n",
    "        return memo[k, fs]\n",
    "    C0 = C.copy()\n",
    "    C1 = C0.difference(S[k])\n",
    "    min_value = min(set_cover(k-1, C0), set_cover(k-1, C1)+1)\n",
    "    memo[k, fs] = min_value\n",
    "    return memo[k, fs]"
   ]
  },
  {
   "cell_type": "code",
   "execution_count": 72,
   "metadata": {
    "ExecuteTime": {
     "end_time": "2019-09-22T19:07:31.465325Z",
     "start_time": "2019-09-22T19:07:31.457124Z"
    }
   },
   "outputs": [],
   "source": [
    "m, n, a, S = toy_problem4(m=50, n=10, seed=7)"
   ]
  },
  {
   "cell_type": "code",
   "execution_count": 73,
   "metadata": {
    "ExecuteTime": {
     "end_time": "2019-09-22T19:07:31.719550Z",
     "start_time": "2019-09-22T19:07:31.707759Z"
    }
   },
   "outputs": [
    {
     "data": {
      "text/plain": [
       "4"
      ]
     },
     "execution_count": 73,
     "metadata": {},
     "output_type": "execute_result"
    }
   ],
   "source": [
    "set_cover(n-1, set(range(m)))"
   ]
  },
  {
   "cell_type": "code",
   "execution_count": null,
   "metadata": {},
   "outputs": [],
   "source": []
  }
 ],
 "metadata": {
  "kernelspec": {
   "display_name": "Python 3",
   "language": "python",
   "name": "python3"
  },
  "language_info": {
   "codemirror_mode": {
    "name": "ipython",
    "version": 3
   },
   "file_extension": ".py",
   "mimetype": "text/x-python",
   "name": "python",
   "nbconvert_exporter": "python",
   "pygments_lexer": "ipython3",
   "version": "3.7.2"
  },
  "toc": {
   "base_numbering": 1,
   "nav_menu": {},
   "number_sections": true,
   "sideBar": true,
   "skip_h1_title": false,
   "title_cell": "Table of Contents",
   "title_sidebar": "Contents",
   "toc_cell": false,
   "toc_position": {},
   "toc_section_display": true,
   "toc_window_display": true
  },
  "varInspector": {
   "cols": {
    "lenName": 16,
    "lenType": 16,
    "lenVar": 40
   },
   "kernels_config": {
    "python": {
     "delete_cmd_postfix": "",
     "delete_cmd_prefix": "del ",
     "library": "var_list.py",
     "varRefreshCmd": "print(var_dic_list())"
    },
    "r": {
     "delete_cmd_postfix": ") ",
     "delete_cmd_prefix": "rm(",
     "library": "var_list.r",
     "varRefreshCmd": "cat(var_dic_list()) "
    }
   },
   "types_to_exclude": [
    "module",
    "function",
    "builtin_function_or_method",
    "instance",
    "_Feature"
   ],
   "window_display": false
  }
 },
 "nbformat": 4,
 "nbformat_minor": 2
}
