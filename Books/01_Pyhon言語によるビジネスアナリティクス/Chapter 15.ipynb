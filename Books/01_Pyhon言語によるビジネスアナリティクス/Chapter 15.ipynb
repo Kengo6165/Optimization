{
 "cells": [
  {
   "cell_type": "markdown",
   "metadata": {},
   "source": [
    "# 動的最適化"
   ]
  },
  {
   "cell_type": "code",
   "execution_count": 1,
   "metadata": {
    "ExecuteTime": {
     "end_time": "2020-04-17T03:42:18.604397Z",
     "start_time": "2020-04-17T03:42:15.378881Z"
    }
   },
   "outputs": [],
   "source": [
    "import numpy as np\n",
    "import sys\n",
    "import math\n",
    "import seaborn as sns\n",
    "import networkx as nx\n",
    "import matplotlib.pyplot as plt\n",
    "from pulp import *\n",
    "from functools import lru_cache\n",
    "sys.setrecursionlimit(10000)\n",
    "%matplotlib inline"
   ]
  },
  {
   "cell_type": "markdown",
   "metadata": {},
   "source": [
    "## 確定的動的最適化の例"
   ]
  },
  {
   "cell_type": "markdown",
   "metadata": {},
   "source": [
    "### 再帰とメモ化"
   ]
  },
  {
   "cell_type": "markdown",
   "metadata": {},
   "source": [
    "##### Fibonacci数\n",
    "以下のように再帰的に定義される．  \n",
    "$F_n = F_{n-1} + F_{n-2},$  \n",
    "$F_1 = F_2 = 1$"
   ]
  },
  {
   "cell_type": "code",
   "execution_count": 2,
   "metadata": {
    "ExecuteTime": {
     "end_time": "2019-09-19T16:42:01.261104Z",
     "start_time": "2019-09-19T16:42:01.256135Z"
    }
   },
   "outputs": [],
   "source": [
    "def fibonacci(n):\n",
    "    if n == 1 or n == 2:\n",
    "        return 1\n",
    "    else:\n",
    "        return fibonacci(n-2) + fibonacci(n-1)"
   ]
  },
  {
   "cell_type": "markdown",
   "metadata": {
    "ExecuteTime": {
     "end_time": "2019-09-19T16:42:34.429518Z",
     "start_time": "2019-09-19T16:42:34.424534Z"
    }
   },
   "source": [
    "これは何回も同じ関数が呼ばれ，効率が悪い  \n",
    "-> 引数としてmemoと名付けた辞書を渡し，一度計算した関数は記憶するようにする"
   ]
  },
  {
   "cell_type": "code",
   "execution_count": 8,
   "metadata": {
    "ExecuteTime": {
     "end_time": "2019-09-19T16:48:53.256166Z",
     "start_time": "2019-09-19T16:48:53.250182Z"
    }
   },
   "outputs": [],
   "source": [
    "def fibonacci_memo(n, memo={}):\n",
    "    if n == 1 or n == 2:\n",
    "        return 1\n",
    "    elif n not in memo:\n",
    "        memo[n] = fibonacci_memo(n-1) + fibonacci_memo(n-2)\n",
    "    return memo[n]"
   ]
  },
  {
   "cell_type": "code",
   "execution_count": 20,
   "metadata": {
    "ExecuteTime": {
     "end_time": "2019-09-19T16:58:49.286414Z",
     "start_time": "2019-09-19T16:58:49.279434Z"
    }
   },
   "outputs": [
    {
     "data": {
      "text/plain": [
       "354224848179261915075"
      ]
     },
     "execution_count": 20,
     "metadata": {},
     "output_type": "execute_result"
    }
   ],
   "source": [
    "fibonacci_memo(100)"
   ]
  },
  {
   "cell_type": "markdown",
   "metadata": {},
   "source": [
    "デコレ―タ関数lru_cacheを用いるとさらに簡潔に書ける（lruはleast recently usedの略）"
   ]
  },
  {
   "cell_type": "code",
   "execution_count": 16,
   "metadata": {
    "ExecuteTime": {
     "end_time": "2019-09-19T16:58:18.305012Z",
     "start_time": "2019-09-19T16:58:18.298030Z"
    }
   },
   "outputs": [],
   "source": [
    "@lru_cache(maxsize=None)\n",
    "def fibonacci_memo2(n):\n",
    "    if n == 1 or n == 2:\n",
    "        return 1\n",
    "    else:\n",
    "        return fibonacci_memo2(n-1) + fibonacci_memo2(n-2)"
   ]
  },
  {
   "cell_type": "code",
   "execution_count": 21,
   "metadata": {
    "ExecuteTime": {
     "end_time": "2019-09-19T16:58:51.709622Z",
     "start_time": "2019-09-19T16:58:51.703638Z"
    }
   },
   "outputs": [
    {
     "data": {
      "text/plain": [
       "354224848179261915075"
      ]
     },
     "execution_count": 21,
     "metadata": {},
     "output_type": "execute_result"
    }
   ],
   "source": [
    "fibonacci_memo2(100)"
   ]
  },
  {
   "cell_type": "markdown",
   "metadata": {},
   "source": [
    "### ナップサック問題"
   ]
  },
  {
   "cell_type": "code",
   "execution_count": 75,
   "metadata": {
    "ExecuteTime": {
     "end_time": "2019-09-20T18:01:14.019312Z",
     "start_time": "2019-09-20T18:01:14.010536Z"
    }
   },
   "outputs": [],
   "source": [
    "def create_toy_problem(size, seed):\n",
    "    np.random.seed(seed)\n",
    "    s = np.random.randint(2, 10, size=size)\n",
    "    v = s + np.random.randint(-1, 3, size=size)\n",
    "    return s, v"
   ]
  },
  {
   "cell_type": "markdown",
   "metadata": {},
   "source": [
    "#### 整数ナップサック問題"
   ]
  },
  {
   "cell_type": "markdown",
   "metadata": {},
   "source": [
    "Pulpから解く"
   ]
  },
  {
   "cell_type": "code",
   "execution_count": 10,
   "metadata": {
    "ExecuteTime": {
     "end_time": "2019-09-20T05:59:46.275064Z",
     "start_time": "2019-09-20T05:59:46.222205Z"
    }
   },
   "outputs": [
    {
     "name": "stdout",
     "output_type": "stream",
     "text": [
      "Status:  Optimal\n",
      "Optimal value = 40.0\n"
     ]
    }
   ],
   "source": [
    "s, v = create_toy_problem(size=100, seed=7)\n",
    "b = 20\n",
    "n = len(v)\n",
    "\n",
    "prob = LpProblem(sense=LpMaximize)\n",
    "x = [LpVariable(f'x{i}', lowBound=0, cat='Integer') for i in range(n)]\n",
    "prob += lpSum(v[i] * x[i] for i in range(n))\n",
    "prob += lpSum(s[i] * x[i] for i in range(n)) <= b\n",
    "\n",
    "prob.solve()\n",
    "print('Status: ', LpStatus[prob.status])\n",
    "print(f'Optimal value = {value(prob.objective)}')"
   ]
  },
  {
   "cell_type": "markdown",
   "metadata": {},
   "source": [
    "動的解法"
   ]
  },
  {
   "cell_type": "code",
   "execution_count": 76,
   "metadata": {
    "ExecuteTime": {
     "end_time": "2019-09-20T18:01:24.596563Z",
     "start_time": "2019-09-20T18:01:24.588679Z"
    }
   },
   "outputs": [],
   "source": [
    "def knapsack_problem(b):\n",
    "    if b == 0:\n",
    "        return 0\n",
    "    if b < 0:\n",
    "        return -99999\n",
    "    max_value = 0\n",
    "    for i, size in enumerate(s):\n",
    "        max_value = max(max_value, knapsack_problem(b-size) + v[i])\n",
    "    return max_value"
   ]
  },
  {
   "cell_type": "code",
   "execution_count": 81,
   "metadata": {
    "ExecuteTime": {
     "end_time": "2019-09-20T18:01:36.228094Z",
     "start_time": "2019-09-20T18:01:36.199234Z"
    }
   },
   "outputs": [
    {
     "data": {
      "text/plain": [
       "20"
      ]
     },
     "execution_count": 81,
     "metadata": {},
     "output_type": "execute_result"
    }
   ],
   "source": [
    "s, v = create_toy_problem(size=20, seed=7)\n",
    "knapsack_problem(b=10)"
   ]
  },
  {
   "cell_type": "markdown",
   "metadata": {},
   "source": [
    "メモ化を用いた解法"
   ]
  },
  {
   "cell_type": "code",
   "execution_count": 57,
   "metadata": {
    "ExecuteTime": {
     "end_time": "2019-09-19T18:11:52.713484Z",
     "start_time": "2019-09-19T18:11:52.703514Z"
    }
   },
   "outputs": [],
   "source": [
    "def knapsack_problem_memo(b, memo={}):\n",
    "    if b == 0:\n",
    "        return 0\n",
    "    if b < 0:\n",
    "        return -99999\n",
    "    if b in memo:\n",
    "        return memo[b]\n",
    "    else:\n",
    "        max_value = 0\n",
    "        for i in range(len(s)):\n",
    "            max_value = max(max_value, knapsack_problem_memo(b-s[i]) + v[i])\n",
    "        memo[b] = max_value\n",
    "        return max_value"
   ]
  },
  {
   "cell_type": "code",
   "execution_count": 65,
   "metadata": {
    "ExecuteTime": {
     "end_time": "2019-09-19T18:13:26.328764Z",
     "start_time": "2019-09-19T18:13:26.320784Z"
    }
   },
   "outputs": [
    {
     "data": {
      "text/plain": [
       "585"
      ]
     },
     "execution_count": 65,
     "metadata": {},
     "output_type": "execute_result"
    }
   ],
   "source": [
    "s, v = create_toy_problem(size=100, seed=7)\n",
    "knapsack_problem_memo(300)"
   ]
  },
  {
   "cell_type": "markdown",
   "metadata": {},
   "source": [
    "再帰を用いない前進型の動的最適化アルゴリズム"
   ]
  },
  {
   "cell_type": "code",
   "execution_count": 5,
   "metadata": {
    "ExecuteTime": {
     "end_time": "2019-09-20T05:47:54.309543Z",
     "start_time": "2019-09-20T05:47:54.298573Z"
    }
   },
   "outputs": [
    {
     "name": "stdout",
     "output_type": "stream",
     "text": [
      "Optimal value:  20\n"
     ]
    }
   ],
   "source": [
    "s, v = create_toy_problem(size=20, seed=7)\n",
    "b = 10\n",
    "\n",
    "# 各thetaに対して1つアイテムを足した時の値を見る\n",
    "# 解が良くなるなら更新．結局すべてのthetaに対して最も良い解を求めている\n",
    "f = {theta: 0 for theta in range(b+1)}\n",
    "for theta in range(b-min(s)+1):\n",
    "    for i, size in enumerate(s):\n",
    "        if theta + size > b:\n",
    "            continue\n",
    "        if f[theta+size] < f[theta] + v[i]:\n",
    "            f[theta+size] = f[theta] + v[i]\n",
    "\n",
    "print('Optimal value: ', f[b])"
   ]
  },
  {
   "cell_type": "markdown",
   "metadata": {},
   "source": [
    "#### 0-1ナップサック問題"
   ]
  },
  {
   "cell_type": "code",
   "execution_count": 11,
   "metadata": {
    "ExecuteTime": {
     "end_time": "2019-09-20T06:58:43.080275Z",
     "start_time": "2019-09-20T06:58:43.029372Z"
    }
   },
   "outputs": [
    {
     "name": "stdout",
     "output_type": "stream",
     "text": [
      "Status:  Optimal\n",
      "Optimal value = 38.0\n"
     ]
    }
   ],
   "source": [
    "s, v = create_toy_problem(size=100, seed=7)\n",
    "b = 20\n",
    "n = len(v)\n",
    "\n",
    "prob = LpProblem(sense=LpMaximize)\n",
    "x = [LpVariable(f'x{i}', lowBound=0, cat='Binary') for i in range(n)]\n",
    "prob += lpSum(v[i] * x[i] for i in range(n))\n",
    "prob += lpSum(s[i] * x[i] for i in range(n)) <= b\n",
    "\n",
    "prob.solve()\n",
    "print('Status: ', LpStatus[prob.status])\n",
    "print(f'Optimal value = {value(prob.objective)}')"
   ]
  },
  {
   "cell_type": "code",
   "execution_count": 127,
   "metadata": {
    "ExecuteTime": {
     "end_time": "2019-09-20T18:07:06.001536Z",
     "start_time": "2019-09-20T18:07:05.989622Z"
    }
   },
   "outputs": [],
   "source": [
    "def knapsack_problem_01(k, b, memo={}):\n",
    "    if b < 0:\n",
    "        return -99999\n",
    "    if k == 0:\n",
    "        if b >= s[0]:\n",
    "            return v[0]\n",
    "        else:\n",
    "            return 0\n",
    "    if (k, b) in memo:\n",
    "        return memo[k, b]\n",
    "    else:\n",
    "        max_value = max(knapsack_problem_01(k-1, b), knapsack_problem_01(k-1, b-s[k]) + v[k])\n",
    "        memo[k, b] = max_value\n",
    "        return max_value"
   ]
  },
  {
   "cell_type": "code",
   "execution_count": 128,
   "metadata": {
    "ExecuteTime": {
     "end_time": "2019-09-20T18:07:06.220029Z",
     "start_time": "2019-09-20T18:07:06.203751Z"
    }
   },
   "outputs": [
    {
     "data": {
      "text/plain": [
       "38"
      ]
     },
     "execution_count": 128,
     "metadata": {},
     "output_type": "execute_result"
    }
   ],
   "source": [
    "s, v = create_toy_problem(size=100, seed=7)\n",
    "b = 20\n",
    "k = len(v) - 1\n",
    "knapsack_problem_01(k, b)"
   ]
  },
  {
   "cell_type": "markdown",
   "metadata": {},
   "source": [
    "### 最大安定集合問題"
   ]
  },
  {
   "cell_type": "code",
   "execution_count": 76,
   "metadata": {
    "ExecuteTime": {
     "end_time": "2019-09-21T17:57:34.861599Z",
     "start_time": "2019-09-21T17:57:34.846556Z"
    }
   },
   "outputs": [],
   "source": [
    "class Create_toy_problem2:\n",
    "    def __init__(self, size, seed):\n",
    "        self.size = size\n",
    "        self.seed = seed\n",
    "\n",
    "    def ex1(self):\n",
    "        np.random.seed(self.seed)\n",
    "        w = np.random.randint(1, 5, size=self.size)\n",
    "        return w\n",
    "    \n",
    "    def ex2(self):\n",
    "        np.random.seed(self.seed)\n",
    "        w = np.random.randint(1, 5, size=self.size)\n",
    "        while True:\n",
    "            G = nx.fast_gnp_random_graph(n=self.size, p=0.3, seed=self.seed)\n",
    "            if nx.is_connected(G):\n",
    "                break\n",
    "        return G, w"
   ]
  },
  {
   "cell_type": "markdown",
   "metadata": {},
   "source": [
    "グラフが一列に並んでいる特殊な状況を考える"
   ]
  },
  {
   "cell_type": "code",
   "execution_count": 77,
   "metadata": {
    "ExecuteTime": {
     "end_time": "2019-09-21T17:57:35.608359Z",
     "start_time": "2019-09-21T17:57:35.601491Z"
    }
   },
   "outputs": [],
   "source": [
    "def path_stable(i, memo={}):\n",
    "    if i < 0:\n",
    "        return 0\n",
    "    elif i == 0:\n",
    "        return w[i]\n",
    "    elif i not in memo:\n",
    "        max_value = max(path_stable(i-1), path_stable(i-2)+w[i])\n",
    "        memo[i] = max_value\n",
    "    return memo[i]"
   ]
  },
  {
   "cell_type": "code",
   "execution_count": 78,
   "metadata": {
    "ExecuteTime": {
     "end_time": "2019-09-21T17:57:36.213635Z",
     "start_time": "2019-09-21T17:57:36.204918Z"
    }
   },
   "outputs": [
    {
     "name": "stdout",
     "output_type": "stream",
     "text": [
      "31\n"
     ]
    }
   ],
   "source": [
    "w = Create_toy_problem2(size=20, seed=7).ex1()\n",
    "n = len(w)\n",
    "print(path_stable(n-1))"
   ]
  },
  {
   "cell_type": "markdown",
   "metadata": {},
   "source": [
    "前進型"
   ]
  },
  {
   "cell_type": "code",
   "execution_count": 79,
   "metadata": {
    "ExecuteTime": {
     "end_time": "2019-09-21T17:57:37.224247Z",
     "start_time": "2019-09-21T17:57:37.209987Z"
    }
   },
   "outputs": [
    {
     "name": "stdout",
     "output_type": "stream",
     "text": [
      "Optimal value:  31\n"
     ]
    }
   ],
   "source": [
    "w = Create_toy_problem2(size=20, seed=7).ex1()\n",
    "n = len(w)\n",
    "f = {-1: 0, 0: w[0]}\n",
    "for i in range(1, n):\n",
    "    f[i] = max(f[i-1], f[i-2]+w[i])\n",
    "print('Optimal value: ', f[n-1])"
   ]
  },
  {
   "cell_type": "markdown",
   "metadata": {},
   "source": [
    "最適解"
   ]
  },
  {
   "cell_type": "code",
   "execution_count": 82,
   "metadata": {
    "ExecuteTime": {
     "end_time": "2019-09-21T17:57:58.924579Z",
     "start_time": "2019-09-21T17:57:58.908884Z"
    }
   },
   "outputs": [
    {
     "name": "stdout",
     "output_type": "stream",
     "text": [
      "Optimal solution:  [18, 16, 14, 11, 9, 7, 5, 3, 0]\n"
     ]
    }
   ],
   "source": [
    "i = n-1\n",
    "opt_sol = []\n",
    "\n",
    "# i番目が最適解に含まれるか判定\n",
    "while i >= 1:\n",
    "    if f[i-1] >= f[i-2] + w[i]:  # 含まれない\n",
    "        i = i-1\n",
    "    else:  # 含まれる\n",
    "        opt_sol.append(i)\n",
    "        i = i-2\n",
    "if np.min(opt_sol) != 1:\n",
    "    opt_sol.append(0)\n",
    "print('Optimal solution: ', opt_sol)"
   ]
  },
  {
   "cell_type": "code",
   "execution_count": 83,
   "metadata": {
    "ExecuteTime": {
     "end_time": "2019-09-21T17:58:00.973508Z",
     "start_time": "2019-09-21T17:58:00.961075Z"
    }
   },
   "outputs": [
    {
     "data": {
      "text/plain": [
       "31"
      ]
     },
     "execution_count": 83,
     "metadata": {},
     "output_type": "execute_result"
    }
   ],
   "source": [
    "np.sum(w[opt_sol])"
   ]
  },
  {
   "cell_type": "markdown",
   "metadata": {},
   "source": [
    "一般のグラフに対して最大安定集合問題を考える"
   ]
  },
  {
   "cell_type": "code",
   "execution_count": 162,
   "metadata": {
    "ExecuteTime": {
     "end_time": "2019-09-21T18:47:23.503772Z",
     "start_time": "2019-09-21T18:47:23.494842Z"
    }
   },
   "outputs": [],
   "source": [
    "def stable(S, memo={}):\n",
    "    if len(S) == 0:\n",
    "        return 0\n",
    "    if len(S) == 1:\n",
    "        return w[S.pop()]\n",
    "    fs = frozenset(S)\n",
    "    if fs in memo:\n",
    "        return memo[fs]\n",
    "    else:\n",
    "        max_value = 0\n",
    "        for i in range(len(S)):\n",
    "            S0 = S[:]\n",
    "            k = S0.pop(i)\n",
    "            S1 = set(S0).difference(set(G.adj[k].keys()))  # G.adj[k]: kに隣接する点をキーにもつ辞書を返す\n",
    "            max_value = max(stable(S0), stable(list(S1))+w[k], max_value)\n",
    "        memo[fs] = max_value\n",
    "        return max_value"
   ]
  },
  {
   "cell_type": "code",
   "execution_count": 163,
   "metadata": {
    "ExecuteTime": {
     "end_time": "2019-09-21T18:47:24.688634Z",
     "start_time": "2019-09-21T18:47:24.151399Z"
    }
   },
   "outputs": [
    {
     "name": "stdout",
     "output_type": "stream",
     "text": [
      "Optimal value:  13\n"
     ]
    },
    {
     "data": {
      "image/png": "[encoded data removed]",
      "text/plain": [
       "<Figure size 432x288 with 1 Axes>"
      ]
     },
     "metadata": {},
     "output_type": "display_data"
    }
   ],
   "source": [
    "G, w = Create_toy_problem2(10, 7).ex2()\n",
    "pos = nx.spring_layout(G)\n",
    "weight = {i: w[i] for i in range(len(G.nodes()))}\n",
    "nx.draw_networkx(G, pos=pos, with_labels=True, labels=weight)\n",
    "\n",
    "print('Optimal value: ', stable(list(G.nodes())))"
   ]
  },
  {
   "cell_type": "markdown",
   "metadata": {},
   "source": [
    "### 巡回セールスマン問題"
   ]
  },
  {
   "cell_type": "code",
   "execution_count": 5,
   "metadata": {
    "ExecuteTime": {
     "end_time": "2020-04-17T03:43:03.794230Z",
     "start_time": "2020-04-17T03:43:03.787246Z"
    }
   },
   "outputs": [],
   "source": [
    "def toy_problem3(n_nodes, seed):\n",
    "    np.random.seed(seed)\n",
    "    x = np.random.randint(low=0, high=1000, size=n_nodes)\n",
    "    y = np.random.randint(low=0, high=1000, size=n_nodes)\n",
    "    p = {i: (x[i], y[i]) for i in range(n)}\n",
    "    D = np.sqrt((x.reshape(-1, 1) - x)**2 + (y.reshape(-1, 1) - y)**2)\n",
    "    return n_nodes, D, G, p"
   ]
  },
  {
   "cell_type": "code",
   "execution_count": 6,
   "metadata": {
    "ExecuteTime": {
     "end_time": "2020-04-17T03:43:04.452318Z",
     "start_time": "2020-04-17T03:43:04.445337Z"
    }
   },
   "outputs": [],
   "source": [
    "def TSP(j, S, memo={}):\n",
    "    fs = frozenset(S)\n",
    "    if (j, fs) in memo:\n",
    "        return memo[j, fs]\n",
    "    elif fs == frozenset({j}):\n",
    "        return d[n-1, j]  # n-1を始点とするため（別にどこでもいい）\n",
    "    else:\n",
    "        S0 = S.copy()\n",
    "        S0.remove(j)\n",
    "        min_value = 99999\n",
    "        for i in S0:\n",
    "            min_value = min(TSP(i, S0, memo)+d[i, j], min_value)\n",
    "        memo[j, fs] = min_value\n",
    "        return min_value"
   ]
  },
  {
   "cell_type": "code",
   "execution_count": 7,
   "metadata": {
    "ExecuteTime": {
     "end_time": "2020-04-17T03:43:05.233164Z",
     "start_time": "2020-04-17T03:43:05.210223Z"
    }
   },
   "outputs": [
    {
     "ename": "NameError",
     "evalue": "name 'n' is not defined",
     "output_type": "error",
     "traceback": [
      "\u001b[1;31m---------------------------------------------------------------------------\u001b[0m",
      "\u001b[1;31mNameError\u001b[0m                                 Traceback (most recent call last)",
      "\u001b[1;32m<ipython-input-7-afd0ef7a0ccf>\u001b[0m in \u001b[0;36m<module>\u001b[1;34m\u001b[0m\n\u001b[1;32m----> 1\u001b[1;33m \u001b[0mn\u001b[0m\u001b[1;33m,\u001b[0m \u001b[0md\u001b[0m\u001b[1;33m,\u001b[0m \u001b[0mG\u001b[0m\u001b[1;33m,\u001b[0m \u001b[0mp\u001b[0m \u001b[1;33m=\u001b[0m \u001b[0mtoy_problem3\u001b[0m\u001b[1;33m(\u001b[0m\u001b[1;36m15\u001b[0m\u001b[1;33m,\u001b[0m \u001b[1;36m7\u001b[0m\u001b[1;33m)\u001b[0m\u001b[1;33m\u001b[0m\u001b[1;33m\u001b[0m\u001b[0m\n\u001b[0m",
      "\u001b[1;32m<ipython-input-5-9f9711620323>\u001b[0m in \u001b[0;36mtoy_problem3\u001b[1;34m(n_nodes, seed)\u001b[0m\n\u001b[0;32m      3\u001b[0m     \u001b[0mx\u001b[0m \u001b[1;33m=\u001b[0m \u001b[0mnp\u001b[0m\u001b[1;33m.\u001b[0m\u001b[0mrandom\u001b[0m\u001b[1;33m.\u001b[0m\u001b[0mrandint\u001b[0m\u001b[1;33m(\u001b[0m\u001b[0mlow\u001b[0m\u001b[1;33m=\u001b[0m\u001b[1;36m0\u001b[0m\u001b[1;33m,\u001b[0m \u001b[0mhigh\u001b[0m\u001b[1;33m=\u001b[0m\u001b[1;36m1000\u001b[0m\u001b[1;33m,\u001b[0m \u001b[0msize\u001b[0m\u001b[1;33m=\u001b[0m\u001b[0mn_nodes\u001b[0m\u001b[1;33m)\u001b[0m\u001b[1;33m\u001b[0m\u001b[1;33m\u001b[0m\u001b[0m\n\u001b[0;32m      4\u001b[0m     \u001b[0my\u001b[0m \u001b[1;33m=\u001b[0m \u001b[0mnp\u001b[0m\u001b[1;33m.\u001b[0m\u001b[0mrandom\u001b[0m\u001b[1;33m.\u001b[0m\u001b[0mrandint\u001b[0m\u001b[1;33m(\u001b[0m\u001b[0mlow\u001b[0m\u001b[1;33m=\u001b[0m\u001b[1;36m0\u001b[0m\u001b[1;33m,\u001b[0m \u001b[0mhigh\u001b[0m\u001b[1;33m=\u001b[0m\u001b[1;36m1000\u001b[0m\u001b[1;33m,\u001b[0m \u001b[0msize\u001b[0m\u001b[1;33m=\u001b[0m\u001b[0mn_nodes\u001b[0m\u001b[1;33m)\u001b[0m\u001b[1;33m\u001b[0m\u001b[1;33m\u001b[0m\u001b[0m\n\u001b[1;32m----> 5\u001b[1;33m     \u001b[0mp\u001b[0m \u001b[1;33m=\u001b[0m \u001b[1;33m{\u001b[0m\u001b[0mi\u001b[0m\u001b[1;33m:\u001b[0m \u001b[1;33m(\u001b[0m\u001b[0mx\u001b[0m\u001b[1;33m[\u001b[0m\u001b[0mi\u001b[0m\u001b[1;33m]\u001b[0m\u001b[1;33m,\u001b[0m \u001b[0my\u001b[0m\u001b[1;33m[\u001b[0m\u001b[0mi\u001b[0m\u001b[1;33m]\u001b[0m\u001b[1;33m)\u001b[0m \u001b[1;32mfor\u001b[0m \u001b[0mi\u001b[0m \u001b[1;32min\u001b[0m \u001b[0mrange\u001b[0m\u001b[1;33m(\u001b[0m\u001b[0mn\u001b[0m\u001b[1;33m)\u001b[0m\u001b[1;33m}\u001b[0m\u001b[1;33m\u001b[0m\u001b[1;33m\u001b[0m\u001b[0m\n\u001b[0m\u001b[0;32m      6\u001b[0m     \u001b[0mD\u001b[0m \u001b[1;33m=\u001b[0m \u001b[0mnp\u001b[0m\u001b[1;33m.\u001b[0m\u001b[0msqrt\u001b[0m\u001b[1;33m(\u001b[0m\u001b[1;33m(\u001b[0m\u001b[0mx\u001b[0m\u001b[1;33m.\u001b[0m\u001b[0mreshape\u001b[0m\u001b[1;33m(\u001b[0m\u001b[1;33m-\u001b[0m\u001b[1;36m1\u001b[0m\u001b[1;33m,\u001b[0m \u001b[1;36m1\u001b[0m\u001b[1;33m)\u001b[0m \u001b[1;33m-\u001b[0m \u001b[0mx\u001b[0m\u001b[1;33m)\u001b[0m\u001b[1;33m**\u001b[0m\u001b[1;36m2\u001b[0m \u001b[1;33m+\u001b[0m \u001b[1;33m(\u001b[0m\u001b[0my\u001b[0m\u001b[1;33m.\u001b[0m\u001b[0mreshape\u001b[0m\u001b[1;33m(\u001b[0m\u001b[1;33m-\u001b[0m\u001b[1;36m1\u001b[0m\u001b[1;33m,\u001b[0m \u001b[1;36m1\u001b[0m\u001b[1;33m)\u001b[0m \u001b[1;33m-\u001b[0m \u001b[0my\u001b[0m\u001b[1;33m)\u001b[0m\u001b[1;33m**\u001b[0m\u001b[1;36m2\u001b[0m\u001b[1;33m)\u001b[0m\u001b[1;33m\u001b[0m\u001b[1;33m\u001b[0m\u001b[0m\n\u001b[0;32m      7\u001b[0m     \u001b[1;32mreturn\u001b[0m \u001b[0mn_nodes\u001b[0m\u001b[1;33m,\u001b[0m \u001b[0mD\u001b[0m\u001b[1;33m,\u001b[0m \u001b[0mG\u001b[0m\u001b[1;33m,\u001b[0m \u001b[0mp\u001b[0m\u001b[1;33m\u001b[0m\u001b[1;33m\u001b[0m\u001b[0m\n",
      "\u001b[1;31mNameError\u001b[0m: name 'n' is not defined"
     ]
    }
   ],
   "source": [
    "n, d, G, p = toy_problem3(15, 7)"
   ]
  },
  {
   "cell_type": "code",
   "execution_count": 158,
   "metadata": {
    "ExecuteTime": {
     "end_time": "2019-09-21T18:38:42.472487Z",
     "start_time": "2019-09-21T18:38:39.613291Z"
    }
   },
   "outputs": [
    {
     "data": {
      "text/plain": [
       "3212.9000112123576"
      ]
     },
     "execution_count": 158,
     "metadata": {},
     "output_type": "execute_result"
    }
   ],
   "source": [
    "TSP(n-1, set(range(n)))"
   ]
  },
  {
   "cell_type": "markdown",
   "metadata": {},
   "source": [
    "### 集合被覆問題"
   ]
  },
  {
   "cell_type": "code",
   "execution_count": 61,
   "metadata": {
    "ExecuteTime": {
     "end_time": "2019-09-22T19:04:24.221682Z",
     "start_time": "2019-09-22T19:04:24.207074Z"
    }
   },
   "outputs": [],
   "source": [
    "def toy_problem4(m, n, seed):\n",
    "    np.random.seed(seed)\n",
    "    a = np.random.randint(0, 2, size=(m, n))\n",
    "    # どの施設にもカバーされない需要があれば作り直し\n",
    "    while np.all(a.sum(axis=1) == 0):\n",
    "        seed += 1\n",
    "        np.random.seed(seed)\n",
    "        a = np.random.randint(0, 2, size=(m, n))\n",
    "    S = {}  # j番目の列で1が入っているインデックスの番号を格納した辞書\n",
    "    for j in range(n):\n",
    "        S[j] = [i for i in range(m) if a[i, j] == 1]\n",
    "    return m, n, a, S"
   ]
  },
  {
   "cell_type": "code",
   "execution_count": 65,
   "metadata": {
    "ExecuteTime": {
     "end_time": "2019-09-22T19:04:43.822075Z",
     "start_time": "2019-09-22T19:04:43.808911Z"
    }
   },
   "outputs": [],
   "source": [
    "def set_cover(k, C, memo={}):\n",
    "    if len(C) == 0:\n",
    "        return 0\n",
    "    if k < 0:\n",
    "        return 99999\n",
    "    fs = frozenset(C)\n",
    "    if (k, fs) in memo:\n",
    "        return memo[k, fs]\n",
    "    C0 = C.copy()\n",
    "    C1 = C0.difference(S[k])\n",
    "    min_value = min(set_cover(k-1, C0), set_cover(k-1, C1)+1)\n",
    "    memo[k, fs] = min_value\n",
    "    return memo[k, fs]"
   ]
  },
  {
   "cell_type": "code",
   "execution_count": 72,
   "metadata": {
    "ExecuteTime": {
     "end_time": "2019-09-22T19:07:31.465325Z",
     "start_time": "2019-09-22T19:07:31.457124Z"
    }
   },
   "outputs": [],
   "source": [
    "m, n, a, S = toy_problem4(m=50, n=10, seed=7)"
   ]
  },
  {
   "cell_type": "code",
   "execution_count": 73,
   "metadata": {
    "ExecuteTime": {
     "end_time": "2019-09-22T19:07:31.719550Z",
     "start_time": "2019-09-22T19:07:31.707759Z"
    }
   },
   "outputs": [
    {
     "data": {
      "text/plain": [
       "4"
      ]
     },
     "execution_count": 73,
     "metadata": {},
     "output_type": "execute_result"
    }
   ],
   "source": [
    "set_cover(n-1, set(range(m)))"
   ]
  },
  {
   "cell_type": "markdown",
   "metadata": {},
   "source": [
    "## 確率的動的最適化"
   ]
  },
  {
   "cell_type": "markdown",
   "metadata": {
    "ExecuteTime": {
     "end_time": "2019-10-01T18:44:59.575204Z",
     "start_time": "2019-10-01T18:44:59.564114Z"
    }
   },
   "source": [
    "レンタカー営業所の問題"
   ]
  },
  {
   "cell_type": "code",
   "execution_count": 2,
   "metadata": {
    "ExecuteTime": {
     "end_time": "2019-10-15T09:14:47.299363Z",
     "start_time": "2019-10-15T09:14:47.287981Z"
    }
   },
   "outputs": [],
   "source": [
    "max_car = 10  # 各営業所での保管台数の最大値\n",
    "n_car_dim = max_car + 1  # 各営業所での保管台数のあり得る場合の数\n",
    "max_move = 5  # 移動できる最大台数\n",
    "lam_1_r, lam_1_h, lam_2_r, lam_2_h = 3, 3, 4, 2  # 貸出数と返却数を制御するPoisson分布のパラメータ\n",
    "V = np.zeros((n_car_dim, n_car_dim))  # 各状態での効用の期待値\n",
    "pi = np.zeros((n_car_dim, n_car_dim), dtype=np.int)  # 各状態での方策"
   ]
  },
  {
   "cell_type": "code",
   "execution_count": 3,
   "metadata": {
    "ExecuteTime": {
     "end_time": "2019-10-15T09:14:47.925105Z",
     "start_time": "2019-10-15T09:14:47.917234Z"
    }
   },
   "outputs": [],
   "source": [
    "# Poisson分布において値nをとる確率\n",
    "def poisson_p(n, lam):\n",
    "    return lam**n / (math.e**lam*math.factorial(n))"
   ]
  },
  {
   "cell_type": "code",
   "execution_count": 4,
   "metadata": {
    "ExecuteTime": {
     "end_time": "2019-10-15T09:14:48.370745Z",
     "start_time": "2019-10-15T09:14:48.356392Z"
    }
   },
   "outputs": [],
   "source": [
    "# 遷移確率と各状態の利得\n",
    "def comp_prob_R(n_car_dim, lam_r, lam_h):\n",
    "    R = np.zeros(n_car_dim)  # 遷移に伴う報酬（保管台数iに対する売上の期待値）\n",
    "    for i in range(n_car_dim):  # 保管台数\n",
    "        for r in range(i+1):  # 貸出需要台数\n",
    "            R[i] += 1000 * r * poisson_p(r, lam_r)  # r<=i => すべて貸し出せる\n",
    "        R[i] += 1000 * i * (1-sum([poisson_p(r, lam_r) for r in range(i+1)]))  # r>i => i台貸し出せる\n",
    "        \n",
    "    prob = np.zeros((n_car_dim, n_car_dim))  # 遷移確率行列\n",
    "    for i in range(n_car_dim):\n",
    "        for h in range(n_car_dim):  # 返却台数\n",
    "            for r in range(i+1):  # r<=i => 全て貸し出せるから次の残り台数はmin(max_car, i-r+h)\n",
    "                new_i = min(max_car, i-r+h)\n",
    "                prob[i][new_i] += poisson_p(r, lam_r) * poisson_p(h, lam_h)\n",
    "            # r>i => i台すべて貸し出すから次の残り台数はh\n",
    "            prob[i][h] += poisson_p(h, lam_h) * (1-sum([poisson_p(r, lam_r) for r in range(i+1)]))\n",
    "        # 返却台数が保管台数の最大値max_carを超える場合，次の残り台数はi, rによらずmax_carとなる\n",
    "        prob[i][max_car] += 1 - sum([poisson_p(h, lam_h) for h in range(n_car_dim)])\n",
    "    \n",
    "    return prob, R"
   ]
  },
  {
   "cell_type": "code",
   "execution_count": 5,
   "metadata": {
    "ExecuteTime": {
     "end_time": "2019-10-15T09:14:48.948164Z",
     "start_time": "2019-10-15T09:14:48.934075Z"
    }
   },
   "outputs": [],
   "source": [
    "# 状態i1, i2から方策uを取った時に推移する次の状態に関する期待値\n",
    "def estimated_val(i1, i2, u):\n",
    "    gamma = 0.9\n",
    "    u = min(u, i1)\n",
    "    u = max(u, -i2)\n",
    "    u = min(max_move, u)\n",
    "    u = max(-max_move, u)\n",
    "    val = -200 * abs(u)  # 移動に伴うコスト\n",
    "    m_i1 = min(i1-u, max_car)  # 移動後のi1\n",
    "    m_i2 = min(i2+u, max_car)  # 移動後のi2\n",
    "    for new_i1 in range(n_car_dim):\n",
    "        for new_i2 in range(n_car_dim):\n",
    "            trans_prob = prob_1[m_i1][new_i1] * prob_2[m_i2][new_i2]  # 次の営業での各店舗の遷移確率\n",
    "            val += trans_prob * (R_1[m_i1] + R_2[m_i2] + gamma * V[new_i1][new_i2])\n",
    "    return val"
   ]
  },
  {
   "cell_type": "markdown",
   "metadata": {},
   "source": [
    "方策評価ステップ"
   ]
  },
  {
   "cell_type": "code",
   "execution_count": 6,
   "metadata": {
    "ExecuteTime": {
     "end_time": "2019-10-15T09:14:49.766458Z",
     "start_time": "2019-10-15T09:14:49.754150Z"
    }
   },
   "outputs": [],
   "source": [
    "# 報酬Vの現在の評価値と新しい評価値の差が十分に小さくなるまで評価値の更新を繰り返す\n",
    "def policy_eval():\n",
    "    theta = 1e-7\n",
    "    while True:\n",
    "        delta = 0\n",
    "        for i1 in range(n_car_dim):\n",
    "            for i2 in range(n_car_dim):\n",
    "                v = V[i1][i2]\n",
    "                a = pi[i1][i2]\n",
    "                V[i1][i2] = estimated_val(i1, i2, a)\n",
    "                delta = max(delta, abs(v-V[i1][i2]))\n",
    "        if delta < theta:\n",
    "            break"
   ]
  },
  {
   "cell_type": "markdown",
   "metadata": {},
   "source": [
    "方策改善ステップ"
   ]
  },
  {
   "cell_type": "code",
   "execution_count": 7,
   "metadata": {
    "ExecuteTime": {
     "end_time": "2019-10-15T09:14:50.507178Z",
     "start_time": "2019-10-15T09:14:50.495499Z"
    }
   },
   "outputs": [],
   "source": [
    "# 保管台数がi1, i2であるときにとるべき方策uを決める関数\n",
    "def greedy_policy(i1, i2):\n",
    "    # とれる方策の範囲\n",
    "    u_max = min(i1, max_move)\n",
    "    u_min = max(-i2, -max_move)\n",
    "    # 初期値\n",
    "    best_u = u_min\n",
    "    best_val = estimated_val(i1, i2, u_min)\n",
    "    for u in range(u_min, u_max+1):\n",
    "        val = estimated_val(i1, i2, u)\n",
    "        if val > best_val + 1e-7:\n",
    "            best_val = val\n",
    "            best_u = u\n",
    "    return best_u"
   ]
  },
  {
   "cell_type": "code",
   "execution_count": 8,
   "metadata": {
    "ExecuteTime": {
     "end_time": "2019-10-15T09:14:50.885269Z",
     "start_time": "2019-10-15T09:14:50.877419Z"
    }
   },
   "outputs": [],
   "source": [
    "# 方策改善ステップ\n",
    "def policy_imp():\n",
    "    sns.set_style('white')\n",
    "    sns.heatmap(pi, square=True, vmin=-5, vmax=5)\n",
    "    plt.show()\n",
    "    changed = False\n",
    "    for i1 in range(n_car_dim):\n",
    "        for i2 in range(n_car_dim):\n",
    "            b = pi[i1][i2]\n",
    "            pi[i1][i2] = greedy_policy(i1, i2)\n",
    "            if b != pi[i1][i2]:\n",
    "                changed = True\n",
    "    return changed"
   ]
  },
  {
   "cell_type": "code",
   "execution_count": 9,
   "metadata": {
    "ExecuteTime": {
     "end_time": "2019-10-15T09:15:28.676547Z",
     "start_time": "2019-10-15T09:14:51.292733Z"
    }
   },
   "outputs": [
    {
     "data": {
      "image/png": "[encoded data removed]",
      "text/plain": [
       "<Figure size 432x288 with 2 Axes>"
      ]
     },
     "metadata": {},
     "output_type": "display_data"
    },
    {
     "data": {
      "image/png": "[encoded data removed]",
      "text/plain": [
       "<Figure size 432x288 with 2 Axes>"
      ]
     },
     "metadata": {},
     "output_type": "display_data"
    },
    {
     "data": {
      "image/png": "[encoded data removed]",
      "text/plain": [
       "<Figure size 432x288 with 2 Axes>"
      ]
     },
     "metadata": {},
     "output_type": "display_data"
    },
    {
     "data": {
      "image/png": "[encoded data removed]",
      "text/plain": [
       "<Figure size 432x288 with 2 Axes>"
      ]
     },
     "metadata": {},
     "output_type": "display_data"
    }
   ],
   "source": [
    "prob_1, R_1 = comp_prob_R(n_car_dim, lam_1_r, lam_1_h)\n",
    "prob_2, R_2 = comp_prob_R(n_car_dim, lam_2_r, lam_2_h)\n",
    "\n",
    "changed = True\n",
    "while True:\n",
    "    policy_eval()\n",
    "    changed = policy_imp()\n",
    "    if changed == False:\n",
    "        break"
   ]
  },
  {
   "cell_type": "code",
   "execution_count": null,
   "metadata": {},
   "outputs": [],
   "source": []
  }
 ],
 "metadata": {
  "kernelspec": {
   "display_name": "Python 3",
   "language": "python",
   "name": "python3"
  },
  "language_info": {
   "codemirror_mode": {
    "name": "ipython",
    "version": 3
   },
   "file_extension": ".py",
   "mimetype": "text/x-python",
   "name": "python",
   "nbconvert_exporter": "python",
   "pygments_lexer": "ipython3",
   "version": "3.7.2"
  },
  "toc": {
   "base_numbering": 1,
   "nav_menu": {},
   "number_sections": true,
   "sideBar": true,
   "skip_h1_title": false,
   "title_cell": "Table of Contents",
   "title_sidebar": "Contents",
   "toc_cell": false,
   "toc_position": {},
   "toc_section_display": true,
   "toc_window_display": true
  },
  "varInspector": {
   "cols": {
    "lenName": 16,
    "lenType": 16,
    "lenVar": 40
   },
   "kernels_config": {
    "python": {
     "delete_cmd_postfix": "",
     "delete_cmd_prefix": "del ",
     "library": "var_list.py",
     "varRefreshCmd": "print(var_dic_list())"
    },
    "r": {
     "delete_cmd_postfix": ") ",
     "delete_cmd_prefix": "rm(",
     "library": "var_list.r",
     "varRefreshCmd": "cat(var_dic_list()) "
    }
   },
   "types_to_exclude": [
    "module",
    "function",
    "builtin_function_or_method",
    "instance",
    "_Feature"
   ],
   "window_display": false
  }
 },
 "nbformat": 4,
 "nbformat_minor": 2
}
