{
 "cells": [
  {
   "cell_type": "code",
   "execution_count": 1,
   "metadata": {
    "ExecuteTime": {
     "end_time": "2019-08-26T04:47:09.769480Z",
     "start_time": "2019-08-26T04:47:09.685700Z"
    }
   },
   "outputs": [],
   "source": [
    "from pulp import *"
   ]
  },
  {
   "cell_type": "markdown",
   "metadata": {},
   "source": [
    "# 整数線形計画の基本事項"
   ]
  },
  {
   "cell_type": "markdown",
   "metadata": {},
   "source": [
    "* 整数線形計画（Integer Linear Programming; ILP）：\n",
    "    * 目的関数と制約式が線形\n",
    "    * 変数の一部または全部が整数\n",
    "* ILPとして定式化できる$\\neq$整数計画ソルバーで解ける．以下の場合は注意が必要\n",
    "    * 変数や制約式の数が膨大になる場合\n",
    "    * 定式化に非常に大きい数（big-M）が含まれる場合  \n",
    "    -> big-Mで表現せず元の表現の特徴を使った解法を適用するのが妥当なこともある（制約プログラミングとの融合はこのアプローチ）\n",
    "* 一般に，次の条件を満たす定式化ほど良い定式化（整数計画ソルバーによって解きやすい定式化）である\n",
    "    1. 線形計画緩和が良い（凸包が良い）\n",
    "    2. 変数の数が少ない\n",
    "    3. 制約式の数が少ない\n",
    "    4. （極端に大きい・小さい係数を含めない）  \n",
    "    \n",
    "  例えば，big-Mを含む定式化は係数が大きいうえに(1)の意味で弱いことが多く，多用しないことを心掛けるべきであるとされている．また，変数の上下限が予めわかっていれば，それを記述しておくのが良い"
   ]
  },
  {
   "cell_type": "markdown",
   "metadata": {},
   "source": [
    "ILP1"
   ]
  },
  {
   "cell_type": "code",
   "execution_count": 14,
   "metadata": {
    "ExecuteTime": {
     "end_time": "2019-08-26T05:08:08.460728Z",
     "start_time": "2019-08-26T05:08:08.418841Z"
    }
   },
   "outputs": [
    {
     "name": "stdout",
     "output_type": "stream",
     "text": [
      "ILP1:\n",
      "MAXIMIZE\n",
      "4*x1 + 5*x2 + 0\n",
      "SUBJECT TO\n",
      "_C1: 2 x1 + 2 x2 <= 7\n",
      "\n",
      "_C2: 3 x1 + 5 x2 <= 14\n",
      "\n",
      "VARIABLES\n",
      "0 <= x1 Integer\n",
      "0 <= x2 Integer\n",
      "\n",
      "Status:  Optimal\n",
      "Optimal value = 14.0\n",
      "x1=1.0\n",
      "x2=2.0\n"
     ]
    }
   ],
   "source": [
    "# 問題の定義\n",
    "prob = LpProblem(name='ILP1', sense=LpMaximize)\n",
    "\n",
    "# 変数\n",
    "x1 = LpVariable('x1', lowBound=0.0, cat='Integer')\n",
    "x2 = LpVariable('x2', lowBound=0.0, cat='Integer')\n",
    "\n",
    "# 定式化\n",
    "prob += 4*x1 + 5*x2\n",
    "prob += 2*x1 + 2*x2 <= 7\n",
    "prob += 3*x1 + 5*x2 <= 14\n",
    "\n",
    "print(prob)  # 問題\n",
    "prob.solve()  # 求解\n",
    "# 結果を表示\n",
    "print('Status: ', LpStatus[prob.status])\n",
    "print(f'Optimal value = {value(prob.objective)}')\n",
    "for v in prob.variables():\n",
    "    print(f'{v}={value(v)}')"
   ]
  },
  {
   "cell_type": "markdown",
   "metadata": {},
   "source": [
    "実行可能解は，$(x1, x2) = (0, 0), (0, 1), (0, 2), (1, 0), (1, 1), (1, 2), (2, 0), (2, 1), (3, 0)$が実行可能解であるから，以下の定式化も同じ意味の定式化"
   ]
  },
  {
   "cell_type": "code",
   "execution_count": 22,
   "metadata": {
    "ExecuteTime": {
     "end_time": "2019-08-26T07:11:16.209672Z",
     "start_time": "2019-08-26T07:11:16.170776Z"
    }
   },
   "outputs": [
    {
     "name": "stdout",
     "output_type": "stream",
     "text": [
      "ILP1':\n",
      "MAXIMIZE\n",
      "4*x1 + 5*x2 + 0\n",
      "SUBJECT TO\n",
      "_C1: x1 + x2 <= 3\n",
      "\n",
      "_C2: x2 <= 2\n",
      "\n",
      "VARIABLES\n",
      "0 <= x1 Integer\n",
      "0 <= x2 Integer\n",
      "\n",
      "Status:  Optimal\n",
      "Optimal value = 14.0\n",
      "x1=1.0\n",
      "x2=2.0\n"
     ]
    }
   ],
   "source": [
    "prob = LpProblem(name=\"ILP1'\", sense=LpMaximize)\n",
    "x1 = LpVariable('x1', lowBound=0.0, cat='Integer')\n",
    "x2 = LpVariable('x2', lowBound=0.0, cat='Integer')\n",
    "\n",
    "prob += 4*x1 + 5*x2\n",
    "prob += x1 + x2 <= 3\n",
    "prob += x2 <= 2\n",
    "\n",
    "print(prob)\n",
    "prob.solve()\n",
    "print('Status: ', LpStatus[prob.status])\n",
    "print(f'Optimal value = {value(prob.objective)}')\n",
    "for v in prob.variables():\n",
    "    print(f'{v}={value(v)}')"
   ]
  },
  {
   "cell_type": "markdown",
   "metadata": {},
   "source": [
    "* このように線形制約が異なると，線形計画緩和問題も異なる\n",
    "* 例えば，ILP1'の線形計画緩和問題の実行可能領域（多面体）はILP1のそれに含まれている．前者はILPの実行可能集合の凸包であり，これ以上領域を小さくするように線形制約を記述することはできない\n",
    "* つまり，凸法は最強の定式化（理想の定式化）を与えるが，それを記述する線形制約をすべて求めることは一般に非常に困難である．ただし，最近の整数計画ソルバーは凸包に近づける機能（前処理，カット生成など）を備えている．例えば，ILP1の$2x_1+2x_2\\leq 7$は$x_1+x_2\\leq 3.5$と同値だが，整数条件によって$x_1+x_2\\leq 3$とすることができる（前処理のひとつ）\n",
    "* 凸包：集合$S$を含む凸集合のなかで（包含関係の意味で）最小のものを凸包と呼ぶ．$S$が有限集合の場合，凸包は多面体，つまり線形不等式系で記述できることが知られている（Weylの定理）"
   ]
  },
  {
   "cell_type": "markdown",
   "metadata": {},
   "source": [
    "ILP2"
   ]
  },
  {
   "cell_type": "code",
   "execution_count": 21,
   "metadata": {
    "ExecuteTime": {
     "end_time": "2019-08-26T05:24:59.090211Z",
     "start_time": "2019-08-26T05:24:59.040348Z"
    }
   },
   "outputs": [
    {
     "name": "stdout",
     "output_type": "stream",
     "text": [
      "ILP2:\n",
      "MAXIMIZE\n",
      "17*x0 + 16*x1 + 14*x2 + 10*x3 + 8*x4 + 0\n",
      "SUBJECT TO\n",
      "_C1: 60 x0 + 50 x1 + 40 x2 + 30 x3 + 20 x4 <= 100\n",
      "\n",
      "VARIABLES\n",
      "0 <= x0 <= 1 Integer\n",
      "0 <= x1 <= 1 Integer\n",
      "0 <= x2 <= 1 Integer\n",
      "0 <= x3 <= 1 Integer\n",
      "0 <= x4 <= 1 Integer\n",
      "\n",
      "Status:  Optimal\n",
      "Optimal value = 34.0\n",
      "x0=0.0\n",
      "x1=1.0\n",
      "x2=0.0\n",
      "x3=1.0\n",
      "x4=1.0\n"
     ]
    }
   ],
   "source": [
    "NPV = [17, 16, 14, 10, 8]\n",
    "budget = [60, 50, 40, 30, 20]\n",
    "\n",
    "prob = LpProblem(name='ILP2', sense=LpMaximize)\n",
    "x = [LpVariable(f'x{i}', lowBound=0, cat='Binary') for i in range(len(NPV))]\n",
    "\n",
    "prob += lpDot(NPV, x)\n",
    "prob += lpDot(budget, x) <= 100\n",
    "\n",
    "print(prob)\n",
    "prob.solve()\n",
    "print('Status: ', LpStatus[prob.status])\n",
    "print(f'Optimal value = {value(prob.objective)}')\n",
    "for v in prob.variables():\n",
    "    print(f'{v}={value(v)}')"
   ]
  },
  {
   "cell_type": "markdown",
   "metadata": {},
   "source": [
    "# 様々な表現方法"
   ]
  },
  {
   "cell_type": "code",
   "execution_count": null,
   "metadata": {},
   "outputs": [],
   "source": []
  }
 ],
 "metadata": {
  "kernelspec": {
   "display_name": "Python 3",
   "language": "python",
   "name": "python3"
  },
  "language_info": {
   "codemirror_mode": {
    "name": "ipython",
    "version": 3
   },
   "file_extension": ".py",
   "mimetype": "text/x-python",
   "name": "python",
   "nbconvert_exporter": "python",
   "pygments_lexer": "ipython3",
   "version": "3.7.0"
  },
  "toc": {
   "base_numbering": 1,
   "nav_menu": {},
   "number_sections": true,
   "sideBar": true,
   "skip_h1_title": false,
   "title_cell": "Table of Contents",
   "title_sidebar": "Contents",
   "toc_cell": false,
   "toc_position": {},
   "toc_section_display": true,
   "toc_window_display": true
  },
  "varInspector": {
   "cols": {
    "lenName": 16,
    "lenType": 16,
    "lenVar": 40
   },
   "kernels_config": {
    "python": {
     "delete_cmd_postfix": "",
     "delete_cmd_prefix": "del ",
     "library": "var_list.py",
     "varRefreshCmd": "print(var_dic_list())"
    },
    "r": {
     "delete_cmd_postfix": ") ",
     "delete_cmd_prefix": "rm(",
     "library": "var_list.r",
     "varRefreshCmd": "cat(var_dic_list()) "
    }
   },
   "types_to_exclude": [
    "module",
    "function",
    "builtin_function_or_method",
    "instance",
    "_Feature"
   ],
   "window_display": false
  }
 },
 "nbformat": 4,
 "nbformat_minor": 2
}
